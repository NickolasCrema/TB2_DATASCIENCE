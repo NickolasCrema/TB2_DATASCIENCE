{
 "cells": [
  {
   "attachments": {},
   "cell_type": "markdown",
   "metadata": {},
   "source": [
    "## DATASET BANK-MARKETING  \n",
    "\n",
    "Aluno: Nickolas Crema\n",
    "\n",
    "Professor: Andre Gustavo Maletzke"
   ]
  },
  {
   "attachments": {},
   "cell_type": "markdown",
   "metadata": {},
   "source": [
    "### Objetivos do dataset:  "
   ]
  },
  {
   "attachments": {},
   "cell_type": "markdown",
   "metadata": {},
   "source": [
    "O dataset se baseia em marketing de campanhas realizadas por telefone de um banco português. O objetivo da classificação é predizer se o cliente vai subscrever um depósito a prazo ou não.  \n",
    "\n",
    "link do dataset: https://www.openml.org/search?type=data&sort=runs&id=1461&status=active\""
   ]
  },
  {
   "attachments": {},
   "cell_type": "markdown",
   "metadata": {},
   "source": [
    "### Features\n"
   ]
  },
  {
   "attachments": {},
   "cell_type": "markdown",
   "metadata": {},
   "source": [
    "O dataset contém 17 \"features\"  \n",
    "V1 - A idade do cliente - Númerico  \n",
    "V2 - O tipo de trabalho que o cliente exerce - Categórico (\\\"admin.\\\", \\\"unknown\\\", \\\"unemployed\\\", \\\"management\\\", \\\"housemaid\\\", \\\"entrepreneur\\\", \\\"student\\\", \\\"blue-collar\\\", \\\"self-employed\\\", \\\"retired\\\", \\\"technician\\\", \\\"services\\\")  \n",
    "V3 - O estado cívil do cliente - Categórico  (\\\"married\\\", \\\"divorced\\\", \\\"single\\\"; note: \\\"divorced\\\" means divorced or widowed)  \n",
    "V4 - Nível de escolaridade do cliente - Categórico (\\\"unknown\\\", \\\"secondary\\\", \\\"primary\\\", \\\"tertiary\\\")  \n",
    "V5 - Se o cliente tem crédito inadimplente - Binário (\\\"yes\\\", \\\"no\\\")  \n",
    "V6 - Saldo médio anual - Númerico  \n",
    "V7 - Se o cliente tem crédito habitacional - Binário (\\\"yes\\\", \\\"no\\\")  \n",
    "V8 - Se o cliente tem empréstimo pessoal - Binário (\\\"yes\\\", \\\"no\\\")   \n",
    "V9 - Meio de contato - Númerico  \n",
    "V10 - O último dia de contato do mês - Categórico (\\\"unknown\\\", \\\"telephone\\\", \\\"cellular\\\")  \n",
    "V11 - O último mês de contato do ano - Categórico (\\\"jan\\\", \\\"feb\\\", \\\"mar\\\", ..., \\\"nov\\\", \\\"dec\\\")  \n",
    "V12 - A duração do último contato - Númerico  \n",
    "V13 - Número de contatos realizados nesta campanha para este cliente - Númerico  \n",
    "V14 - Número de dias que se passaram desde que o cliente foi contatado pela última vez em uma campanha anterior - Númerico  \n",
    "V15 - Número de contactos realizados antes desta campanha e para este cliente - Númerico  \n",
    "V16 - Resultado da campanha anterior para este cliente - Categórico  \n",
    "V17 - target y - Se o cliente subscreveu ao depósito a prazo ou não - Binário (\\\"yes\\\", \\\"no\\\") "
   ]
  },
  {
   "attachments": {},
   "cell_type": "markdown",
   "metadata": {},
   "source": [
    "### Hipóteses  "
   ]
  },
  {
   "attachments": {},
   "cell_type": "markdown",
   "metadata": {},
   "source": [
    "H1: Só é possível prever a inscrição se houver todos os atributos do dataset envolvidos no treino?  \n",
    "H2: Existe um par atributos que possuem influência direta sobre a classificação? Quais?"
   ]
  },
  {
   "cell_type": "markdown",
   "metadata": {},
   "source": [
    "### Lendo o dataset"
   ]
  },
  {
   "cell_type": "code",
   "execution_count": 1,
   "metadata": {},
   "outputs": [],
   "source": [
    "import pandas as pd\n",
    "from scipy.io.arff import loadarff\n",
    "import numpy as np\n",
    "import seaborn as sns\n",
    "import warnings\n",
    "from sklearn.neighbors import KNeighborsClassifier\n",
    "import matplotlib.pyplot as plt\n",
    "from imblearn.under_sampling import RandomUnderSampler\n",
    "from imblearn.over_sampling import RandomOverSampler\n",
    "from sklearn.metrics import confusion_matrix, ConfusionMatrixDisplay, classification_report, accuracy_score, roc_auc_score\n",
    "from sklearn.model_selection import train_test_split\n",
    "from sklearn.model_selection import GridSearchCV\n",
    "from sklearn.feature_selection import RFE\n",
    "from sklearn.ensemble import RandomForestClassifier\n",
    "from sklearn import model_selection"
   ]
  },
  {
   "cell_type": "code",
   "execution_count": 31,
   "metadata": {},
   "outputs": [
    {
     "data": {
      "text/html": [
       "<div>\n",
       "<style scoped>\n",
       "    .dataframe tbody tr th:only-of-type {\n",
       "        vertical-align: middle;\n",
       "    }\n",
       "\n",
       "    .dataframe tbody tr th {\n",
       "        vertical-align: top;\n",
       "    }\n",
       "\n",
       "    .dataframe thead th {\n",
       "        text-align: right;\n",
       "    }\n",
       "</style>\n",
       "<table border=\"1\" class=\"dataframe\">\n",
       "  <thead>\n",
       "    <tr style=\"text-align: right;\">\n",
       "      <th></th>\n",
       "      <th>V1</th>\n",
       "      <th>V2</th>\n",
       "      <th>V3</th>\n",
       "      <th>V4</th>\n",
       "      <th>V5</th>\n",
       "      <th>V6</th>\n",
       "      <th>V7</th>\n",
       "      <th>V8</th>\n",
       "      <th>V9</th>\n",
       "      <th>V10</th>\n",
       "      <th>V11</th>\n",
       "      <th>V12</th>\n",
       "      <th>V13</th>\n",
       "      <th>V14</th>\n",
       "      <th>V15</th>\n",
       "      <th>V16</th>\n",
       "      <th>Class</th>\n",
       "    </tr>\n",
       "  </thead>\n",
       "  <tbody>\n",
       "    <tr>\n",
       "      <th>0</th>\n",
       "      <td>58.0</td>\n",
       "      <td>b'management'</td>\n",
       "      <td>b'married'</td>\n",
       "      <td>b'tertiary'</td>\n",
       "      <td>b'no'</td>\n",
       "      <td>2143.0</td>\n",
       "      <td>b'yes'</td>\n",
       "      <td>b'no'</td>\n",
       "      <td>b'unknown'</td>\n",
       "      <td>5.0</td>\n",
       "      <td>b'may'</td>\n",
       "      <td>261.0</td>\n",
       "      <td>1.0</td>\n",
       "      <td>-1.0</td>\n",
       "      <td>0.0</td>\n",
       "      <td>b'unknown'</td>\n",
       "      <td>b'1'</td>\n",
       "    </tr>\n",
       "    <tr>\n",
       "      <th>1</th>\n",
       "      <td>44.0</td>\n",
       "      <td>b'technician'</td>\n",
       "      <td>b'single'</td>\n",
       "      <td>b'secondary'</td>\n",
       "      <td>b'no'</td>\n",
       "      <td>29.0</td>\n",
       "      <td>b'yes'</td>\n",
       "      <td>b'no'</td>\n",
       "      <td>b'unknown'</td>\n",
       "      <td>5.0</td>\n",
       "      <td>b'may'</td>\n",
       "      <td>151.0</td>\n",
       "      <td>1.0</td>\n",
       "      <td>-1.0</td>\n",
       "      <td>0.0</td>\n",
       "      <td>b'unknown'</td>\n",
       "      <td>b'1'</td>\n",
       "    </tr>\n",
       "  </tbody>\n",
       "</table>\n",
       "</div>"
      ],
      "text/plain": [
       "     V1             V2          V3            V4     V5      V6      V7  \\\n",
       "0  58.0  b'management'  b'married'   b'tertiary'  b'no'  2143.0  b'yes'   \n",
       "1  44.0  b'technician'   b'single'  b'secondary'  b'no'    29.0  b'yes'   \n",
       "\n",
       "      V8          V9  V10     V11    V12  V13  V14  V15         V16 Class  \n",
       "0  b'no'  b'unknown'  5.0  b'may'  261.0  1.0 -1.0  0.0  b'unknown'  b'1'  \n",
       "1  b'no'  b'unknown'  5.0  b'may'  151.0  1.0 -1.0  0.0  b'unknown'  b'1'  "
      ]
     },
     "execution_count": 31,
     "metadata": {},
     "output_type": "execute_result"
    }
   ],
   "source": [
    "raw_data = loadarff('dataset.arff')\n",
    "df = pd.DataFrame(raw_data[0])\n",
    "df.head(2)"
   ]
  },
  {
   "cell_type": "markdown",
   "metadata": {},
   "source": [
    "### Renomeando as colunas do dataset"
   ]
  },
  {
   "cell_type": "code",
   "execution_count": 32,
   "metadata": {},
   "outputs": [
    {
     "data": {
      "text/html": [
       "<div>\n",
       "<style scoped>\n",
       "    .dataframe tbody tr th:only-of-type {\n",
       "        vertical-align: middle;\n",
       "    }\n",
       "\n",
       "    .dataframe tbody tr th {\n",
       "        vertical-align: top;\n",
       "    }\n",
       "\n",
       "    .dataframe thead th {\n",
       "        text-align: right;\n",
       "    }\n",
       "</style>\n",
       "<table border=\"1\" class=\"dataframe\">\n",
       "  <thead>\n",
       "    <tr style=\"text-align: right;\">\n",
       "      <th></th>\n",
       "      <th>age</th>\n",
       "      <th>job</th>\n",
       "      <th>marital</th>\n",
       "      <th>education</th>\n",
       "      <th>default_in_credit</th>\n",
       "      <th>balance</th>\n",
       "      <th>housing_loan</th>\n",
       "      <th>personal_loan</th>\n",
       "      <th>contact</th>\n",
       "      <th>last_day_contact_of_month</th>\n",
       "      <th>last_month_contact_of_year</th>\n",
       "      <th>contact_duration</th>\n",
       "      <th>number_of_contacts_performed_during_campaign</th>\n",
       "      <th>last_contact_of_previous_campaign</th>\n",
       "      <th>number_of_contact_of_previous_campaign</th>\n",
       "      <th>outcome_of_previous_campaign</th>\n",
       "      <th>has_subscribed</th>\n",
       "    </tr>\n",
       "  </thead>\n",
       "  <tbody>\n",
       "    <tr>\n",
       "      <th>0</th>\n",
       "      <td>58.0</td>\n",
       "      <td>b'management'</td>\n",
       "      <td>b'married'</td>\n",
       "      <td>b'tertiary'</td>\n",
       "      <td>b'no'</td>\n",
       "      <td>2143.0</td>\n",
       "      <td>b'yes'</td>\n",
       "      <td>b'no'</td>\n",
       "      <td>b'unknown'</td>\n",
       "      <td>5.0</td>\n",
       "      <td>b'may'</td>\n",
       "      <td>261.0</td>\n",
       "      <td>1.0</td>\n",
       "      <td>-1.0</td>\n",
       "      <td>0.0</td>\n",
       "      <td>b'unknown'</td>\n",
       "      <td>b'1'</td>\n",
       "    </tr>\n",
       "    <tr>\n",
       "      <th>1</th>\n",
       "      <td>44.0</td>\n",
       "      <td>b'technician'</td>\n",
       "      <td>b'single'</td>\n",
       "      <td>b'secondary'</td>\n",
       "      <td>b'no'</td>\n",
       "      <td>29.0</td>\n",
       "      <td>b'yes'</td>\n",
       "      <td>b'no'</td>\n",
       "      <td>b'unknown'</td>\n",
       "      <td>5.0</td>\n",
       "      <td>b'may'</td>\n",
       "      <td>151.0</td>\n",
       "      <td>1.0</td>\n",
       "      <td>-1.0</td>\n",
       "      <td>0.0</td>\n",
       "      <td>b'unknown'</td>\n",
       "      <td>b'1'</td>\n",
       "    </tr>\n",
       "    <tr>\n",
       "      <th>2</th>\n",
       "      <td>33.0</td>\n",
       "      <td>b'entrepreneur'</td>\n",
       "      <td>b'married'</td>\n",
       "      <td>b'secondary'</td>\n",
       "      <td>b'no'</td>\n",
       "      <td>2.0</td>\n",
       "      <td>b'yes'</td>\n",
       "      <td>b'yes'</td>\n",
       "      <td>b'unknown'</td>\n",
       "      <td>5.0</td>\n",
       "      <td>b'may'</td>\n",
       "      <td>76.0</td>\n",
       "      <td>1.0</td>\n",
       "      <td>-1.0</td>\n",
       "      <td>0.0</td>\n",
       "      <td>b'unknown'</td>\n",
       "      <td>b'1'</td>\n",
       "    </tr>\n",
       "    <tr>\n",
       "      <th>3</th>\n",
       "      <td>47.0</td>\n",
       "      <td>b'blue-collar'</td>\n",
       "      <td>b'married'</td>\n",
       "      <td>b'unknown'</td>\n",
       "      <td>b'no'</td>\n",
       "      <td>1506.0</td>\n",
       "      <td>b'yes'</td>\n",
       "      <td>b'no'</td>\n",
       "      <td>b'unknown'</td>\n",
       "      <td>5.0</td>\n",
       "      <td>b'may'</td>\n",
       "      <td>92.0</td>\n",
       "      <td>1.0</td>\n",
       "      <td>-1.0</td>\n",
       "      <td>0.0</td>\n",
       "      <td>b'unknown'</td>\n",
       "      <td>b'1'</td>\n",
       "    </tr>\n",
       "    <tr>\n",
       "      <th>4</th>\n",
       "      <td>33.0</td>\n",
       "      <td>b'unknown'</td>\n",
       "      <td>b'single'</td>\n",
       "      <td>b'unknown'</td>\n",
       "      <td>b'no'</td>\n",
       "      <td>1.0</td>\n",
       "      <td>b'no'</td>\n",
       "      <td>b'no'</td>\n",
       "      <td>b'unknown'</td>\n",
       "      <td>5.0</td>\n",
       "      <td>b'may'</td>\n",
       "      <td>198.0</td>\n",
       "      <td>1.0</td>\n",
       "      <td>-1.0</td>\n",
       "      <td>0.0</td>\n",
       "      <td>b'unknown'</td>\n",
       "      <td>b'1'</td>\n",
       "    </tr>\n",
       "    <tr>\n",
       "      <th>5</th>\n",
       "      <td>35.0</td>\n",
       "      <td>b'management'</td>\n",
       "      <td>b'married'</td>\n",
       "      <td>b'tertiary'</td>\n",
       "      <td>b'no'</td>\n",
       "      <td>231.0</td>\n",
       "      <td>b'yes'</td>\n",
       "      <td>b'no'</td>\n",
       "      <td>b'unknown'</td>\n",
       "      <td>5.0</td>\n",
       "      <td>b'may'</td>\n",
       "      <td>139.0</td>\n",
       "      <td>1.0</td>\n",
       "      <td>-1.0</td>\n",
       "      <td>0.0</td>\n",
       "      <td>b'unknown'</td>\n",
       "      <td>b'1'</td>\n",
       "    </tr>\n",
       "    <tr>\n",
       "      <th>6</th>\n",
       "      <td>28.0</td>\n",
       "      <td>b'management'</td>\n",
       "      <td>b'single'</td>\n",
       "      <td>b'tertiary'</td>\n",
       "      <td>b'no'</td>\n",
       "      <td>447.0</td>\n",
       "      <td>b'yes'</td>\n",
       "      <td>b'yes'</td>\n",
       "      <td>b'unknown'</td>\n",
       "      <td>5.0</td>\n",
       "      <td>b'may'</td>\n",
       "      <td>217.0</td>\n",
       "      <td>1.0</td>\n",
       "      <td>-1.0</td>\n",
       "      <td>0.0</td>\n",
       "      <td>b'unknown'</td>\n",
       "      <td>b'1'</td>\n",
       "    </tr>\n",
       "    <tr>\n",
       "      <th>7</th>\n",
       "      <td>42.0</td>\n",
       "      <td>b'entrepreneur'</td>\n",
       "      <td>b'divorced'</td>\n",
       "      <td>b'tertiary'</td>\n",
       "      <td>b'yes'</td>\n",
       "      <td>2.0</td>\n",
       "      <td>b'yes'</td>\n",
       "      <td>b'no'</td>\n",
       "      <td>b'unknown'</td>\n",
       "      <td>5.0</td>\n",
       "      <td>b'may'</td>\n",
       "      <td>380.0</td>\n",
       "      <td>1.0</td>\n",
       "      <td>-1.0</td>\n",
       "      <td>0.0</td>\n",
       "      <td>b'unknown'</td>\n",
       "      <td>b'1'</td>\n",
       "    </tr>\n",
       "    <tr>\n",
       "      <th>8</th>\n",
       "      <td>58.0</td>\n",
       "      <td>b'retired'</td>\n",
       "      <td>b'married'</td>\n",
       "      <td>b'primary'</td>\n",
       "      <td>b'no'</td>\n",
       "      <td>121.0</td>\n",
       "      <td>b'yes'</td>\n",
       "      <td>b'no'</td>\n",
       "      <td>b'unknown'</td>\n",
       "      <td>5.0</td>\n",
       "      <td>b'may'</td>\n",
       "      <td>50.0</td>\n",
       "      <td>1.0</td>\n",
       "      <td>-1.0</td>\n",
       "      <td>0.0</td>\n",
       "      <td>b'unknown'</td>\n",
       "      <td>b'1'</td>\n",
       "    </tr>\n",
       "    <tr>\n",
       "      <th>9</th>\n",
       "      <td>43.0</td>\n",
       "      <td>b'technician'</td>\n",
       "      <td>b'single'</td>\n",
       "      <td>b'secondary'</td>\n",
       "      <td>b'no'</td>\n",
       "      <td>593.0</td>\n",
       "      <td>b'yes'</td>\n",
       "      <td>b'no'</td>\n",
       "      <td>b'unknown'</td>\n",
       "      <td>5.0</td>\n",
       "      <td>b'may'</td>\n",
       "      <td>55.0</td>\n",
       "      <td>1.0</td>\n",
       "      <td>-1.0</td>\n",
       "      <td>0.0</td>\n",
       "      <td>b'unknown'</td>\n",
       "      <td>b'1'</td>\n",
       "    </tr>\n",
       "  </tbody>\n",
       "</table>\n",
       "</div>"
      ],
      "text/plain": [
       "    age              job      marital     education default_in_credit  \\\n",
       "0  58.0    b'management'   b'married'   b'tertiary'             b'no'   \n",
       "1  44.0    b'technician'    b'single'  b'secondary'             b'no'   \n",
       "2  33.0  b'entrepreneur'   b'married'  b'secondary'             b'no'   \n",
       "3  47.0   b'blue-collar'   b'married'    b'unknown'             b'no'   \n",
       "4  33.0       b'unknown'    b'single'    b'unknown'             b'no'   \n",
       "5  35.0    b'management'   b'married'   b'tertiary'             b'no'   \n",
       "6  28.0    b'management'    b'single'   b'tertiary'             b'no'   \n",
       "7  42.0  b'entrepreneur'  b'divorced'   b'tertiary'            b'yes'   \n",
       "8  58.0       b'retired'   b'married'    b'primary'             b'no'   \n",
       "9  43.0    b'technician'    b'single'  b'secondary'             b'no'   \n",
       "\n",
       "   balance housing_loan personal_loan     contact  last_day_contact_of_month  \\\n",
       "0   2143.0       b'yes'         b'no'  b'unknown'                        5.0   \n",
       "1     29.0       b'yes'         b'no'  b'unknown'                        5.0   \n",
       "2      2.0       b'yes'        b'yes'  b'unknown'                        5.0   \n",
       "3   1506.0       b'yes'         b'no'  b'unknown'                        5.0   \n",
       "4      1.0        b'no'         b'no'  b'unknown'                        5.0   \n",
       "5    231.0       b'yes'         b'no'  b'unknown'                        5.0   \n",
       "6    447.0       b'yes'        b'yes'  b'unknown'                        5.0   \n",
       "7      2.0       b'yes'         b'no'  b'unknown'                        5.0   \n",
       "8    121.0       b'yes'         b'no'  b'unknown'                        5.0   \n",
       "9    593.0       b'yes'         b'no'  b'unknown'                        5.0   \n",
       "\n",
       "  last_month_contact_of_year  contact_duration  \\\n",
       "0                     b'may'             261.0   \n",
       "1                     b'may'             151.0   \n",
       "2                     b'may'              76.0   \n",
       "3                     b'may'              92.0   \n",
       "4                     b'may'             198.0   \n",
       "5                     b'may'             139.0   \n",
       "6                     b'may'             217.0   \n",
       "7                     b'may'             380.0   \n",
       "8                     b'may'              50.0   \n",
       "9                     b'may'              55.0   \n",
       "\n",
       "   number_of_contacts_performed_during_campaign  \\\n",
       "0                                           1.0   \n",
       "1                                           1.0   \n",
       "2                                           1.0   \n",
       "3                                           1.0   \n",
       "4                                           1.0   \n",
       "5                                           1.0   \n",
       "6                                           1.0   \n",
       "7                                           1.0   \n",
       "8                                           1.0   \n",
       "9                                           1.0   \n",
       "\n",
       "   last_contact_of_previous_campaign  number_of_contact_of_previous_campaign  \\\n",
       "0                               -1.0                                     0.0   \n",
       "1                               -1.0                                     0.0   \n",
       "2                               -1.0                                     0.0   \n",
       "3                               -1.0                                     0.0   \n",
       "4                               -1.0                                     0.0   \n",
       "5                               -1.0                                     0.0   \n",
       "6                               -1.0                                     0.0   \n",
       "7                               -1.0                                     0.0   \n",
       "8                               -1.0                                     0.0   \n",
       "9                               -1.0                                     0.0   \n",
       "\n",
       "  outcome_of_previous_campaign has_subscribed  \n",
       "0                   b'unknown'           b'1'  \n",
       "1                   b'unknown'           b'1'  \n",
       "2                   b'unknown'           b'1'  \n",
       "3                   b'unknown'           b'1'  \n",
       "4                   b'unknown'           b'1'  \n",
       "5                   b'unknown'           b'1'  \n",
       "6                   b'unknown'           b'1'  \n",
       "7                   b'unknown'           b'1'  \n",
       "8                   b'unknown'           b'1'  \n",
       "9                   b'unknown'           b'1'  "
      ]
     },
     "execution_count": 32,
     "metadata": {},
     "output_type": "execute_result"
    }
   ],
   "source": [
    "df.rename(columns={'V1': 'age', 'V2': 'job', 'V3': 'marital', 'V4': 'education', 'V5': 'default_in_credit', 'V6': 'balance', 'V7': 'housing_loan', 'V8': 'personal_loan', 'V9': 'contact', 'V10': 'last_day_contact_of_month', 'V11': 'last_month_contact_of_year', 'V12': 'contact_duration', 'V13': 'number_of_contacts_performed_during_campaign', 'V14': 'last_contact_of_previous_campaign', 'V15': 'number_of_contact_of_previous_campaign', 'V16': 'outcome_of_previous_campaign', 'Class': 'has_subscribed'}, inplace = True)\n",
    "df.head(10)"
   ]
  },
  {
   "cell_type": "markdown",
   "metadata": {},
   "source": [
    "### Transformando dados"
   ]
  },
  {
   "cell_type": "markdown",
   "metadata": {},
   "source": [
    "Excluindo coluna de forma de contato pois é um atributo irrelevante para classificação"
   ]
  },
  {
   "cell_type": "code",
   "execution_count": 33,
   "metadata": {},
   "outputs": [],
   "source": [
    "df = df.drop(['contact'], axis=1)"
   ]
  },
  {
   "cell_type": "markdown",
   "metadata": {},
   "source": [
    "Transformando atributo categórico de tipo de profissão para valor numérico"
   ]
  },
  {
   "cell_type": "code",
   "execution_count": 34,
   "metadata": {},
   "outputs": [
    {
     "data": {
      "text/html": [
       "<div>\n",
       "<style scoped>\n",
       "    .dataframe tbody tr th:only-of-type {\n",
       "        vertical-align: middle;\n",
       "    }\n",
       "\n",
       "    .dataframe tbody tr th {\n",
       "        vertical-align: top;\n",
       "    }\n",
       "\n",
       "    .dataframe thead th {\n",
       "        text-align: right;\n",
       "    }\n",
       "</style>\n",
       "<table border=\"1\" class=\"dataframe\">\n",
       "  <thead>\n",
       "    <tr style=\"text-align: right;\">\n",
       "      <th></th>\n",
       "      <th>b'admin.'</th>\n",
       "      <th>b'blue-collar'</th>\n",
       "      <th>b'entrepreneur'</th>\n",
       "      <th>b'housemaid'</th>\n",
       "      <th>b'management'</th>\n",
       "      <th>b'retired'</th>\n",
       "      <th>b'self-employed'</th>\n",
       "      <th>b'services'</th>\n",
       "      <th>b'student'</th>\n",
       "      <th>b'technician'</th>\n",
       "      <th>b'unemployed'</th>\n",
       "      <th>b'unknown'</th>\n",
       "    </tr>\n",
       "  </thead>\n",
       "  <tbody>\n",
       "    <tr>\n",
       "      <th>0</th>\n",
       "      <td>0</td>\n",
       "      <td>0</td>\n",
       "      <td>0</td>\n",
       "      <td>0</td>\n",
       "      <td>1</td>\n",
       "      <td>0</td>\n",
       "      <td>0</td>\n",
       "      <td>0</td>\n",
       "      <td>0</td>\n",
       "      <td>0</td>\n",
       "      <td>0</td>\n",
       "      <td>0</td>\n",
       "    </tr>\n",
       "    <tr>\n",
       "      <th>1</th>\n",
       "      <td>0</td>\n",
       "      <td>0</td>\n",
       "      <td>0</td>\n",
       "      <td>0</td>\n",
       "      <td>0</td>\n",
       "      <td>0</td>\n",
       "      <td>0</td>\n",
       "      <td>0</td>\n",
       "      <td>0</td>\n",
       "      <td>1</td>\n",
       "      <td>0</td>\n",
       "      <td>0</td>\n",
       "    </tr>\n",
       "    <tr>\n",
       "      <th>2</th>\n",
       "      <td>0</td>\n",
       "      <td>0</td>\n",
       "      <td>1</td>\n",
       "      <td>0</td>\n",
       "      <td>0</td>\n",
       "      <td>0</td>\n",
       "      <td>0</td>\n",
       "      <td>0</td>\n",
       "      <td>0</td>\n",
       "      <td>0</td>\n",
       "      <td>0</td>\n",
       "      <td>0</td>\n",
       "    </tr>\n",
       "    <tr>\n",
       "      <th>3</th>\n",
       "      <td>0</td>\n",
       "      <td>1</td>\n",
       "      <td>0</td>\n",
       "      <td>0</td>\n",
       "      <td>0</td>\n",
       "      <td>0</td>\n",
       "      <td>0</td>\n",
       "      <td>0</td>\n",
       "      <td>0</td>\n",
       "      <td>0</td>\n",
       "      <td>0</td>\n",
       "      <td>0</td>\n",
       "    </tr>\n",
       "    <tr>\n",
       "      <th>4</th>\n",
       "      <td>0</td>\n",
       "      <td>0</td>\n",
       "      <td>0</td>\n",
       "      <td>0</td>\n",
       "      <td>0</td>\n",
       "      <td>0</td>\n",
       "      <td>0</td>\n",
       "      <td>0</td>\n",
       "      <td>0</td>\n",
       "      <td>0</td>\n",
       "      <td>0</td>\n",
       "      <td>1</td>\n",
       "    </tr>\n",
       "    <tr>\n",
       "      <th>...</th>\n",
       "      <td>...</td>\n",
       "      <td>...</td>\n",
       "      <td>...</td>\n",
       "      <td>...</td>\n",
       "      <td>...</td>\n",
       "      <td>...</td>\n",
       "      <td>...</td>\n",
       "      <td>...</td>\n",
       "      <td>...</td>\n",
       "      <td>...</td>\n",
       "      <td>...</td>\n",
       "      <td>...</td>\n",
       "    </tr>\n",
       "    <tr>\n",
       "      <th>45206</th>\n",
       "      <td>0</td>\n",
       "      <td>0</td>\n",
       "      <td>0</td>\n",
       "      <td>0</td>\n",
       "      <td>0</td>\n",
       "      <td>0</td>\n",
       "      <td>0</td>\n",
       "      <td>0</td>\n",
       "      <td>0</td>\n",
       "      <td>1</td>\n",
       "      <td>0</td>\n",
       "      <td>0</td>\n",
       "    </tr>\n",
       "    <tr>\n",
       "      <th>45207</th>\n",
       "      <td>0</td>\n",
       "      <td>0</td>\n",
       "      <td>0</td>\n",
       "      <td>0</td>\n",
       "      <td>0</td>\n",
       "      <td>1</td>\n",
       "      <td>0</td>\n",
       "      <td>0</td>\n",
       "      <td>0</td>\n",
       "      <td>0</td>\n",
       "      <td>0</td>\n",
       "      <td>0</td>\n",
       "    </tr>\n",
       "    <tr>\n",
       "      <th>45208</th>\n",
       "      <td>0</td>\n",
       "      <td>0</td>\n",
       "      <td>0</td>\n",
       "      <td>0</td>\n",
       "      <td>0</td>\n",
       "      <td>1</td>\n",
       "      <td>0</td>\n",
       "      <td>0</td>\n",
       "      <td>0</td>\n",
       "      <td>0</td>\n",
       "      <td>0</td>\n",
       "      <td>0</td>\n",
       "    </tr>\n",
       "    <tr>\n",
       "      <th>45209</th>\n",
       "      <td>0</td>\n",
       "      <td>1</td>\n",
       "      <td>0</td>\n",
       "      <td>0</td>\n",
       "      <td>0</td>\n",
       "      <td>0</td>\n",
       "      <td>0</td>\n",
       "      <td>0</td>\n",
       "      <td>0</td>\n",
       "      <td>0</td>\n",
       "      <td>0</td>\n",
       "      <td>0</td>\n",
       "    </tr>\n",
       "    <tr>\n",
       "      <th>45210</th>\n",
       "      <td>0</td>\n",
       "      <td>0</td>\n",
       "      <td>1</td>\n",
       "      <td>0</td>\n",
       "      <td>0</td>\n",
       "      <td>0</td>\n",
       "      <td>0</td>\n",
       "      <td>0</td>\n",
       "      <td>0</td>\n",
       "      <td>0</td>\n",
       "      <td>0</td>\n",
       "      <td>0</td>\n",
       "    </tr>\n",
       "  </tbody>\n",
       "</table>\n",
       "<p>45211 rows × 12 columns</p>\n",
       "</div>"
      ],
      "text/plain": [
       "       b'admin.'  b'blue-collar'  b'entrepreneur'  b'housemaid'  \\\n",
       "0              0               0                0             0   \n",
       "1              0               0                0             0   \n",
       "2              0               0                1             0   \n",
       "3              0               1                0             0   \n",
       "4              0               0                0             0   \n",
       "...          ...             ...              ...           ...   \n",
       "45206          0               0                0             0   \n",
       "45207          0               0                0             0   \n",
       "45208          0               0                0             0   \n",
       "45209          0               1                0             0   \n",
       "45210          0               0                1             0   \n",
       "\n",
       "       b'management'  b'retired'  b'self-employed'  b'services'  b'student'  \\\n",
       "0                  1           0                 0            0           0   \n",
       "1                  0           0                 0            0           0   \n",
       "2                  0           0                 0            0           0   \n",
       "3                  0           0                 0            0           0   \n",
       "4                  0           0                 0            0           0   \n",
       "...              ...         ...               ...          ...         ...   \n",
       "45206              0           0                 0            0           0   \n",
       "45207              0           1                 0            0           0   \n",
       "45208              0           1                 0            0           0   \n",
       "45209              0           0                 0            0           0   \n",
       "45210              0           0                 0            0           0   \n",
       "\n",
       "       b'technician'  b'unemployed'  b'unknown'  \n",
       "0                  0              0           0  \n",
       "1                  1              0           0  \n",
       "2                  0              0           0  \n",
       "3                  0              0           0  \n",
       "4                  0              0           1  \n",
       "...              ...            ...         ...  \n",
       "45206              1              0           0  \n",
       "45207              0              0           0  \n",
       "45208              0              0           0  \n",
       "45209              0              0           0  \n",
       "45210              0              0           0  \n",
       "\n",
       "[45211 rows x 12 columns]"
      ]
     },
     "execution_count": 34,
     "metadata": {},
     "output_type": "execute_result"
    }
   ],
   "source": [
    "df_job = pd.get_dummies(df['job'])\n",
    "dict_job = {}\n",
    "i=0\n",
    "for job in df_job.columns.values:\n",
    "    dict_job[job] = i\n",
    "    i+=1\n",
    "for job in dict_job.keys():\n",
    "    df['job'].loc[(df['job'] == job)] = dict_job[job]\n",
    "    warnings.filterwarnings('ignore')\n",
    "df_job"
   ]
  },
  {
   "cell_type": "markdown",
   "metadata": {},
   "source": [
    "Transformando atributo categórico de estado civil para valor numérico"
   ]
  },
  {
   "cell_type": "code",
   "execution_count": 35,
   "metadata": {},
   "outputs": [
    {
     "data": {
      "text/html": [
       "<div>\n",
       "<style scoped>\n",
       "    .dataframe tbody tr th:only-of-type {\n",
       "        vertical-align: middle;\n",
       "    }\n",
       "\n",
       "    .dataframe tbody tr th {\n",
       "        vertical-align: top;\n",
       "    }\n",
       "\n",
       "    .dataframe thead th {\n",
       "        text-align: right;\n",
       "    }\n",
       "</style>\n",
       "<table border=\"1\" class=\"dataframe\">\n",
       "  <thead>\n",
       "    <tr style=\"text-align: right;\">\n",
       "      <th></th>\n",
       "      <th>b'divorced'</th>\n",
       "      <th>b'married'</th>\n",
       "      <th>b'single'</th>\n",
       "    </tr>\n",
       "  </thead>\n",
       "  <tbody>\n",
       "    <tr>\n",
       "      <th>0</th>\n",
       "      <td>0</td>\n",
       "      <td>1</td>\n",
       "      <td>0</td>\n",
       "    </tr>\n",
       "    <tr>\n",
       "      <th>1</th>\n",
       "      <td>0</td>\n",
       "      <td>0</td>\n",
       "      <td>1</td>\n",
       "    </tr>\n",
       "    <tr>\n",
       "      <th>2</th>\n",
       "      <td>0</td>\n",
       "      <td>1</td>\n",
       "      <td>0</td>\n",
       "    </tr>\n",
       "    <tr>\n",
       "      <th>3</th>\n",
       "      <td>0</td>\n",
       "      <td>1</td>\n",
       "      <td>0</td>\n",
       "    </tr>\n",
       "    <tr>\n",
       "      <th>4</th>\n",
       "      <td>0</td>\n",
       "      <td>0</td>\n",
       "      <td>1</td>\n",
       "    </tr>\n",
       "    <tr>\n",
       "      <th>...</th>\n",
       "      <td>...</td>\n",
       "      <td>...</td>\n",
       "      <td>...</td>\n",
       "    </tr>\n",
       "    <tr>\n",
       "      <th>45206</th>\n",
       "      <td>0</td>\n",
       "      <td>1</td>\n",
       "      <td>0</td>\n",
       "    </tr>\n",
       "    <tr>\n",
       "      <th>45207</th>\n",
       "      <td>1</td>\n",
       "      <td>0</td>\n",
       "      <td>0</td>\n",
       "    </tr>\n",
       "    <tr>\n",
       "      <th>45208</th>\n",
       "      <td>0</td>\n",
       "      <td>1</td>\n",
       "      <td>0</td>\n",
       "    </tr>\n",
       "    <tr>\n",
       "      <th>45209</th>\n",
       "      <td>0</td>\n",
       "      <td>1</td>\n",
       "      <td>0</td>\n",
       "    </tr>\n",
       "    <tr>\n",
       "      <th>45210</th>\n",
       "      <td>0</td>\n",
       "      <td>1</td>\n",
       "      <td>0</td>\n",
       "    </tr>\n",
       "  </tbody>\n",
       "</table>\n",
       "<p>45211 rows × 3 columns</p>\n",
       "</div>"
      ],
      "text/plain": [
       "       b'divorced'  b'married'  b'single'\n",
       "0                0           1          0\n",
       "1                0           0          1\n",
       "2                0           1          0\n",
       "3                0           1          0\n",
       "4                0           0          1\n",
       "...            ...         ...        ...\n",
       "45206            0           1          0\n",
       "45207            1           0          0\n",
       "45208            0           1          0\n",
       "45209            0           1          0\n",
       "45210            0           1          0\n",
       "\n",
       "[45211 rows x 3 columns]"
      ]
     },
     "execution_count": 35,
     "metadata": {},
     "output_type": "execute_result"
    }
   ],
   "source": [
    "df_marital = pd.get_dummies(df['marital'])\n",
    "dict_marital = {b'single': 0, b'married': 1, b'divorced': 2}\n",
    "for marital in dict_marital.keys():\n",
    "    df['marital'].loc[(df['marital'] == marital)] = dict_marital[marital]\n",
    "    warnings.filterwarnings('ignore')\n",
    "df_marital"
   ]
  },
  {
   "cell_type": "markdown",
   "metadata": {},
   "source": [
    "Transformando atributos binários para valor numérico"
   ]
  },
  {
   "cell_type": "code",
   "execution_count": 36,
   "metadata": {},
   "outputs": [],
   "source": [
    "df['default_in_credit'].loc[(df['default_in_credit'] == b'no')] = 0\n",
    "df['default_in_credit'].loc[(df['default_in_credit'] == b'yes')] = 1\n",
    "df['housing_loan'].loc[(df['housing_loan'] == b'no')] = 0\n",
    "df['housing_loan'].loc[(df['housing_loan'] == b'yes')] = 1\n",
    "df['personal_loan'].loc[(df['personal_loan'] == b'no')] = 0\n",
    "df['personal_loan'].loc[(df['personal_loan'] == b'yes')] = 1\n",
    "df['last_contact_of_previous_campaign'].loc[(df['last_contact_of_previous_campaign'] == -1.0)] = 0"
   ]
  },
  {
   "cell_type": "markdown",
   "metadata": {},
   "source": [
    "Transformando atributo categórico de nível de escolaridade para valor numérico"
   ]
  },
  {
   "cell_type": "code",
   "execution_count": 37,
   "metadata": {},
   "outputs": [
    {
     "data": {
      "text/html": [
       "<div>\n",
       "<style scoped>\n",
       "    .dataframe tbody tr th:only-of-type {\n",
       "        vertical-align: middle;\n",
       "    }\n",
       "\n",
       "    .dataframe tbody tr th {\n",
       "        vertical-align: top;\n",
       "    }\n",
       "\n",
       "    .dataframe thead th {\n",
       "        text-align: right;\n",
       "    }\n",
       "</style>\n",
       "<table border=\"1\" class=\"dataframe\">\n",
       "  <thead>\n",
       "    <tr style=\"text-align: right;\">\n",
       "      <th></th>\n",
       "      <th>b'primary'</th>\n",
       "      <th>b'secondary'</th>\n",
       "      <th>b'tertiary'</th>\n",
       "      <th>b'unknown'</th>\n",
       "    </tr>\n",
       "  </thead>\n",
       "  <tbody>\n",
       "    <tr>\n",
       "      <th>0</th>\n",
       "      <td>0</td>\n",
       "      <td>0</td>\n",
       "      <td>1</td>\n",
       "      <td>0</td>\n",
       "    </tr>\n",
       "    <tr>\n",
       "      <th>1</th>\n",
       "      <td>0</td>\n",
       "      <td>1</td>\n",
       "      <td>0</td>\n",
       "      <td>0</td>\n",
       "    </tr>\n",
       "    <tr>\n",
       "      <th>2</th>\n",
       "      <td>0</td>\n",
       "      <td>1</td>\n",
       "      <td>0</td>\n",
       "      <td>0</td>\n",
       "    </tr>\n",
       "    <tr>\n",
       "      <th>3</th>\n",
       "      <td>0</td>\n",
       "      <td>0</td>\n",
       "      <td>0</td>\n",
       "      <td>1</td>\n",
       "    </tr>\n",
       "    <tr>\n",
       "      <th>4</th>\n",
       "      <td>0</td>\n",
       "      <td>0</td>\n",
       "      <td>0</td>\n",
       "      <td>1</td>\n",
       "    </tr>\n",
       "    <tr>\n",
       "      <th>...</th>\n",
       "      <td>...</td>\n",
       "      <td>...</td>\n",
       "      <td>...</td>\n",
       "      <td>...</td>\n",
       "    </tr>\n",
       "    <tr>\n",
       "      <th>45206</th>\n",
       "      <td>0</td>\n",
       "      <td>0</td>\n",
       "      <td>1</td>\n",
       "      <td>0</td>\n",
       "    </tr>\n",
       "    <tr>\n",
       "      <th>45207</th>\n",
       "      <td>1</td>\n",
       "      <td>0</td>\n",
       "      <td>0</td>\n",
       "      <td>0</td>\n",
       "    </tr>\n",
       "    <tr>\n",
       "      <th>45208</th>\n",
       "      <td>0</td>\n",
       "      <td>1</td>\n",
       "      <td>0</td>\n",
       "      <td>0</td>\n",
       "    </tr>\n",
       "    <tr>\n",
       "      <th>45209</th>\n",
       "      <td>0</td>\n",
       "      <td>1</td>\n",
       "      <td>0</td>\n",
       "      <td>0</td>\n",
       "    </tr>\n",
       "    <tr>\n",
       "      <th>45210</th>\n",
       "      <td>0</td>\n",
       "      <td>1</td>\n",
       "      <td>0</td>\n",
       "      <td>0</td>\n",
       "    </tr>\n",
       "  </tbody>\n",
       "</table>\n",
       "<p>45211 rows × 4 columns</p>\n",
       "</div>"
      ],
      "text/plain": [
       "       b'primary'  b'secondary'  b'tertiary'  b'unknown'\n",
       "0               0             0            1           0\n",
       "1               0             1            0           0\n",
       "2               0             1            0           0\n",
       "3               0             0            0           1\n",
       "4               0             0            0           1\n",
       "...           ...           ...          ...         ...\n",
       "45206           0             0            1           0\n",
       "45207           1             0            0           0\n",
       "45208           0             1            0           0\n",
       "45209           0             1            0           0\n",
       "45210           0             1            0           0\n",
       "\n",
       "[45211 rows x 4 columns]"
      ]
     },
     "execution_count": 37,
     "metadata": {},
     "output_type": "execute_result"
    }
   ],
   "source": [
    "df_education = pd.get_dummies(df['education'])\n",
    "dict_education = {b'unknown': 0, b'primary': 1, b'secondary': 2, b'tertiary': 3}\n",
    "for education in dict_education.keys():\n",
    "    df['education'].loc[(df['education'] == education)] = dict_education[education]\n",
    "    warnings.filterwarnings('ignore')\n",
    "df_education"
   ]
  },
  {
   "cell_type": "markdown",
   "metadata": {},
   "source": [
    "Transformando atributo categórico de resultado de campanhas anteriores para valor numérico"
   ]
  },
  {
   "cell_type": "code",
   "execution_count": 38,
   "metadata": {},
   "outputs": [],
   "source": [
    "df_outcome_previous = pd.get_dummies(df['outcome_of_previous_campaign'])\n",
    "previous_outcome_campaign_dict = {b'failure': 0, b'success': 1, b'other': 2, b'unknown': 3}\n",
    "for previous_outcome in previous_outcome_campaign_dict.keys():\n",
    "    df['outcome_of_previous_campaign'].loc[(df['outcome_of_previous_campaign'] == previous_outcome)] = previous_outcome_campaign_dict[previous_outcome]\n",
    "    warnings.filterwarnings('ignore')"
   ]
  },
  {
   "cell_type": "markdown",
   "metadata": {},
   "source": [
    "Transformando atributo categórico de mês do último contato para valor numérico"
   ]
  },
  {
   "cell_type": "code",
   "execution_count": 39,
   "metadata": {},
   "outputs": [],
   "source": [
    "month_dict = {b'jan': 1, b'feb': 2, b'mar': 3, b'apr': 4, b'may': 5, b'jun': 6, b'jul': 7, b'aug': 8, b'sep': 9, b'oct': 10, b'nov': 11, b'dec': 12}\n",
    "for month in month_dict.keys():\n",
    "    df['last_month_contact_of_year'].loc[(df['last_month_contact_of_year'] == month)] = month_dict[month]\n",
    "    warnings.filterwarnings('ignore')"
   ]
  },
  {
   "cell_type": "markdown",
   "metadata": {},
   "source": [
    "Transformando a classe de binário para valor numérico"
   ]
  },
  {
   "cell_type": "code",
   "execution_count": 40,
   "metadata": {},
   "outputs": [],
   "source": [
    "dict_subscribed = {b'1': 0, b'2': 1}\n",
    "for subs in dict_subscribed.keys():\n",
    "    df['has_subscribed'].loc[(df['has_subscribed'] == subs)] = dict_subscribed[subs]\n",
    "    warnings.filterwarnings('ignore')"
   ]
  },
  {
   "cell_type": "markdown",
   "metadata": {},
   "source": [
    "Deletando campos com dados faltantes"
   ]
  },
  {
   "cell_type": "code",
   "execution_count": 41,
   "metadata": {},
   "outputs": [],
   "source": [
    "df.dropna(inplace=True)"
   ]
  },
  {
   "cell_type": "markdown",
   "metadata": {},
   "source": [
    "DataFrame após transformações"
   ]
  },
  {
   "cell_type": "code",
   "execution_count": 42,
   "metadata": {},
   "outputs": [
    {
     "data": {
      "text/html": [
       "<div>\n",
       "<style scoped>\n",
       "    .dataframe tbody tr th:only-of-type {\n",
       "        vertical-align: middle;\n",
       "    }\n",
       "\n",
       "    .dataframe tbody tr th {\n",
       "        vertical-align: top;\n",
       "    }\n",
       "\n",
       "    .dataframe thead th {\n",
       "        text-align: right;\n",
       "    }\n",
       "</style>\n",
       "<table border=\"1\" class=\"dataframe\">\n",
       "  <thead>\n",
       "    <tr style=\"text-align: right;\">\n",
       "      <th></th>\n",
       "      <th>age</th>\n",
       "      <th>job</th>\n",
       "      <th>marital</th>\n",
       "      <th>education</th>\n",
       "      <th>default_in_credit</th>\n",
       "      <th>balance</th>\n",
       "      <th>housing_loan</th>\n",
       "      <th>personal_loan</th>\n",
       "      <th>last_day_contact_of_month</th>\n",
       "      <th>last_month_contact_of_year</th>\n",
       "      <th>contact_duration</th>\n",
       "      <th>number_of_contacts_performed_during_campaign</th>\n",
       "      <th>last_contact_of_previous_campaign</th>\n",
       "      <th>number_of_contact_of_previous_campaign</th>\n",
       "      <th>outcome_of_previous_campaign</th>\n",
       "      <th>has_subscribed</th>\n",
       "    </tr>\n",
       "  </thead>\n",
       "  <tbody>\n",
       "    <tr>\n",
       "      <th>0</th>\n",
       "      <td>58.0</td>\n",
       "      <td>4</td>\n",
       "      <td>1</td>\n",
       "      <td>3</td>\n",
       "      <td>0</td>\n",
       "      <td>2143.0</td>\n",
       "      <td>1</td>\n",
       "      <td>0</td>\n",
       "      <td>5.0</td>\n",
       "      <td>5</td>\n",
       "      <td>261.0</td>\n",
       "      <td>1.0</td>\n",
       "      <td>0.0</td>\n",
       "      <td>0.0</td>\n",
       "      <td>3</td>\n",
       "      <td>0</td>\n",
       "    </tr>\n",
       "    <tr>\n",
       "      <th>1</th>\n",
       "      <td>44.0</td>\n",
       "      <td>9</td>\n",
       "      <td>0</td>\n",
       "      <td>2</td>\n",
       "      <td>0</td>\n",
       "      <td>29.0</td>\n",
       "      <td>1</td>\n",
       "      <td>0</td>\n",
       "      <td>5.0</td>\n",
       "      <td>5</td>\n",
       "      <td>151.0</td>\n",
       "      <td>1.0</td>\n",
       "      <td>0.0</td>\n",
       "      <td>0.0</td>\n",
       "      <td>3</td>\n",
       "      <td>0</td>\n",
       "    </tr>\n",
       "    <tr>\n",
       "      <th>2</th>\n",
       "      <td>33.0</td>\n",
       "      <td>2</td>\n",
       "      <td>1</td>\n",
       "      <td>2</td>\n",
       "      <td>0</td>\n",
       "      <td>2.0</td>\n",
       "      <td>1</td>\n",
       "      <td>1</td>\n",
       "      <td>5.0</td>\n",
       "      <td>5</td>\n",
       "      <td>76.0</td>\n",
       "      <td>1.0</td>\n",
       "      <td>0.0</td>\n",
       "      <td>0.0</td>\n",
       "      <td>3</td>\n",
       "      <td>0</td>\n",
       "    </tr>\n",
       "    <tr>\n",
       "      <th>3</th>\n",
       "      <td>47.0</td>\n",
       "      <td>1</td>\n",
       "      <td>1</td>\n",
       "      <td>0</td>\n",
       "      <td>0</td>\n",
       "      <td>1506.0</td>\n",
       "      <td>1</td>\n",
       "      <td>0</td>\n",
       "      <td>5.0</td>\n",
       "      <td>5</td>\n",
       "      <td>92.0</td>\n",
       "      <td>1.0</td>\n",
       "      <td>0.0</td>\n",
       "      <td>0.0</td>\n",
       "      <td>3</td>\n",
       "      <td>0</td>\n",
       "    </tr>\n",
       "    <tr>\n",
       "      <th>4</th>\n",
       "      <td>33.0</td>\n",
       "      <td>11</td>\n",
       "      <td>0</td>\n",
       "      <td>0</td>\n",
       "      <td>0</td>\n",
       "      <td>1.0</td>\n",
       "      <td>0</td>\n",
       "      <td>0</td>\n",
       "      <td>5.0</td>\n",
       "      <td>5</td>\n",
       "      <td>198.0</td>\n",
       "      <td>1.0</td>\n",
       "      <td>0.0</td>\n",
       "      <td>0.0</td>\n",
       "      <td>3</td>\n",
       "      <td>0</td>\n",
       "    </tr>\n",
       "    <tr>\n",
       "      <th>...</th>\n",
       "      <td>...</td>\n",
       "      <td>...</td>\n",
       "      <td>...</td>\n",
       "      <td>...</td>\n",
       "      <td>...</td>\n",
       "      <td>...</td>\n",
       "      <td>...</td>\n",
       "      <td>...</td>\n",
       "      <td>...</td>\n",
       "      <td>...</td>\n",
       "      <td>...</td>\n",
       "      <td>...</td>\n",
       "      <td>...</td>\n",
       "      <td>...</td>\n",
       "      <td>...</td>\n",
       "      <td>...</td>\n",
       "    </tr>\n",
       "    <tr>\n",
       "      <th>45206</th>\n",
       "      <td>51.0</td>\n",
       "      <td>9</td>\n",
       "      <td>1</td>\n",
       "      <td>3</td>\n",
       "      <td>0</td>\n",
       "      <td>825.0</td>\n",
       "      <td>0</td>\n",
       "      <td>0</td>\n",
       "      <td>17.0</td>\n",
       "      <td>11</td>\n",
       "      <td>977.0</td>\n",
       "      <td>3.0</td>\n",
       "      <td>0.0</td>\n",
       "      <td>0.0</td>\n",
       "      <td>3</td>\n",
       "      <td>1</td>\n",
       "    </tr>\n",
       "    <tr>\n",
       "      <th>45207</th>\n",
       "      <td>71.0</td>\n",
       "      <td>5</td>\n",
       "      <td>2</td>\n",
       "      <td>1</td>\n",
       "      <td>0</td>\n",
       "      <td>1729.0</td>\n",
       "      <td>0</td>\n",
       "      <td>0</td>\n",
       "      <td>17.0</td>\n",
       "      <td>11</td>\n",
       "      <td>456.0</td>\n",
       "      <td>2.0</td>\n",
       "      <td>0.0</td>\n",
       "      <td>0.0</td>\n",
       "      <td>3</td>\n",
       "      <td>1</td>\n",
       "    </tr>\n",
       "    <tr>\n",
       "      <th>45208</th>\n",
       "      <td>72.0</td>\n",
       "      <td>5</td>\n",
       "      <td>1</td>\n",
       "      <td>2</td>\n",
       "      <td>0</td>\n",
       "      <td>5715.0</td>\n",
       "      <td>0</td>\n",
       "      <td>0</td>\n",
       "      <td>17.0</td>\n",
       "      <td>11</td>\n",
       "      <td>1127.0</td>\n",
       "      <td>5.0</td>\n",
       "      <td>184.0</td>\n",
       "      <td>3.0</td>\n",
       "      <td>1</td>\n",
       "      <td>1</td>\n",
       "    </tr>\n",
       "    <tr>\n",
       "      <th>45209</th>\n",
       "      <td>57.0</td>\n",
       "      <td>1</td>\n",
       "      <td>1</td>\n",
       "      <td>2</td>\n",
       "      <td>0</td>\n",
       "      <td>668.0</td>\n",
       "      <td>0</td>\n",
       "      <td>0</td>\n",
       "      <td>17.0</td>\n",
       "      <td>11</td>\n",
       "      <td>508.0</td>\n",
       "      <td>4.0</td>\n",
       "      <td>0.0</td>\n",
       "      <td>0.0</td>\n",
       "      <td>3</td>\n",
       "      <td>0</td>\n",
       "    </tr>\n",
       "    <tr>\n",
       "      <th>45210</th>\n",
       "      <td>37.0</td>\n",
       "      <td>2</td>\n",
       "      <td>1</td>\n",
       "      <td>2</td>\n",
       "      <td>0</td>\n",
       "      <td>2971.0</td>\n",
       "      <td>0</td>\n",
       "      <td>0</td>\n",
       "      <td>17.0</td>\n",
       "      <td>11</td>\n",
       "      <td>361.0</td>\n",
       "      <td>2.0</td>\n",
       "      <td>188.0</td>\n",
       "      <td>11.0</td>\n",
       "      <td>2</td>\n",
       "      <td>0</td>\n",
       "    </tr>\n",
       "  </tbody>\n",
       "</table>\n",
       "<p>45211 rows × 16 columns</p>\n",
       "</div>"
      ],
      "text/plain": [
       "        age job marital education default_in_credit  balance housing_loan  \\\n",
       "0      58.0   4       1         3                 0   2143.0            1   \n",
       "1      44.0   9       0         2                 0     29.0            1   \n",
       "2      33.0   2       1         2                 0      2.0            1   \n",
       "3      47.0   1       1         0                 0   1506.0            1   \n",
       "4      33.0  11       0         0                 0      1.0            0   \n",
       "...     ...  ..     ...       ...               ...      ...          ...   \n",
       "45206  51.0   9       1         3                 0    825.0            0   \n",
       "45207  71.0   5       2         1                 0   1729.0            0   \n",
       "45208  72.0   5       1         2                 0   5715.0            0   \n",
       "45209  57.0   1       1         2                 0    668.0            0   \n",
       "45210  37.0   2       1         2                 0   2971.0            0   \n",
       "\n",
       "      personal_loan  last_day_contact_of_month last_month_contact_of_year  \\\n",
       "0                 0                        5.0                          5   \n",
       "1                 0                        5.0                          5   \n",
       "2                 1                        5.0                          5   \n",
       "3                 0                        5.0                          5   \n",
       "4                 0                        5.0                          5   \n",
       "...             ...                        ...                        ...   \n",
       "45206             0                       17.0                         11   \n",
       "45207             0                       17.0                         11   \n",
       "45208             0                       17.0                         11   \n",
       "45209             0                       17.0                         11   \n",
       "45210             0                       17.0                         11   \n",
       "\n",
       "       contact_duration  number_of_contacts_performed_during_campaign  \\\n",
       "0                 261.0                                           1.0   \n",
       "1                 151.0                                           1.0   \n",
       "2                  76.0                                           1.0   \n",
       "3                  92.0                                           1.0   \n",
       "4                 198.0                                           1.0   \n",
       "...                 ...                                           ...   \n",
       "45206             977.0                                           3.0   \n",
       "45207             456.0                                           2.0   \n",
       "45208            1127.0                                           5.0   \n",
       "45209             508.0                                           4.0   \n",
       "45210             361.0                                           2.0   \n",
       "\n",
       "       last_contact_of_previous_campaign  \\\n",
       "0                                    0.0   \n",
       "1                                    0.0   \n",
       "2                                    0.0   \n",
       "3                                    0.0   \n",
       "4                                    0.0   \n",
       "...                                  ...   \n",
       "45206                                0.0   \n",
       "45207                                0.0   \n",
       "45208                              184.0   \n",
       "45209                                0.0   \n",
       "45210                              188.0   \n",
       "\n",
       "       number_of_contact_of_previous_campaign outcome_of_previous_campaign  \\\n",
       "0                                         0.0                            3   \n",
       "1                                         0.0                            3   \n",
       "2                                         0.0                            3   \n",
       "3                                         0.0                            3   \n",
       "4                                         0.0                            3   \n",
       "...                                       ...                          ...   \n",
       "45206                                     0.0                            3   \n",
       "45207                                     0.0                            3   \n",
       "45208                                     3.0                            1   \n",
       "45209                                     0.0                            3   \n",
       "45210                                    11.0                            2   \n",
       "\n",
       "      has_subscribed  \n",
       "0                  0  \n",
       "1                  0  \n",
       "2                  0  \n",
       "3                  0  \n",
       "4                  0  \n",
       "...              ...  \n",
       "45206              1  \n",
       "45207              1  \n",
       "45208              1  \n",
       "45209              0  \n",
       "45210              0  \n",
       "\n",
       "[45211 rows x 16 columns]"
      ]
     },
     "execution_count": 42,
     "metadata": {},
     "output_type": "execute_result"
    }
   ],
   "source": [
    "df"
   ]
  },
  {
   "cell_type": "markdown",
   "metadata": {},
   "source": [
    "### Selecionando Atributos"
   ]
  },
  {
   "attachments": {},
   "cell_type": "markdown",
   "metadata": {},
   "source": [
    "Utilizando Recursive Feature Elimination para selecionar o par de atributos mais relevantes do dataset"
   ]
  },
  {
   "cell_type": "code",
   "execution_count": 43,
   "metadata": {},
   "outputs": [
    {
     "name": "stdout",
     "output_type": "stream",
     "text": [
      "Fitting estimator with 15 features.\n",
      "Fitting estimator with 14 features.\n",
      "Fitting estimator with 13 features.\n",
      "Fitting estimator with 12 features.\n",
      "Fitting estimator with 11 features.\n",
      "Fitting estimator with 10 features.\n",
      "Fitting estimator with 9 features.\n",
      "Fitting estimator with 8 features.\n",
      "Fitting estimator with 7 features.\n",
      "Fitting estimator with 6 features.\n",
      "Fitting estimator with 5 features.\n",
      "Fitting estimator with 4 features.\n",
      "Fitting estimator with 3 features.\n"
     ]
    }
   ],
   "source": [
    "x = df.drop(['has_subscribed'], axis= 1)\n",
    "y = df['has_subscribed']\n",
    "y = y.astype(int)\n",
    "model= RandomForestClassifier()\n",
    "model.fit(x,y)\n",
    "rfe=RFE(model, n_features_to_select=2, verbose=2)\n",
    "fit=rfe.fit(x,y)"
   ]
  },
  {
   "attachments": {},
   "cell_type": "markdown",
   "metadata": {},
   "source": [
    "Resultado do algoritmo, sendo True os atributos selecionados e False os atributos descartados"
   ]
  },
  {
   "cell_type": "code",
   "execution_count": 44,
   "metadata": {},
   "outputs": [
    {
     "data": {
      "text/plain": [
       "array([False, False, False, False, False,  True, False, False, False,\n",
       "       False,  True, False, False, False, False])"
      ]
     },
     "execution_count": 44,
     "metadata": {},
     "output_type": "execute_result"
    }
   ],
   "source": [
    "rfe.support_"
   ]
  },
  {
   "attachments": {},
   "cell_type": "markdown",
   "metadata": {},
   "source": [
    "Removendo do dataset os atributos descartados"
   ]
  },
  {
   "cell_type": "code",
   "execution_count": 45,
   "metadata": {},
   "outputs": [],
   "source": [
    "remove = []\n",
    "for i, col in enumerate(df.drop(['has_subscribed'], axis=1).columns.values):\n",
    "    if rfe.support_[i] == False:\n",
    "        remove.append(col)\n",
    "for r in remove:\n",
    "    df.drop([r], axis=1, inplace=True)"
   ]
  },
  {
   "attachments": {},
   "cell_type": "markdown",
   "metadata": {},
   "source": [
    "Dataset após a remoção dos atributos descartados"
   ]
  },
  {
   "cell_type": "code",
   "execution_count": 46,
   "metadata": {},
   "outputs": [
    {
     "data": {
      "text/html": [
       "<div>\n",
       "<style scoped>\n",
       "    .dataframe tbody tr th:only-of-type {\n",
       "        vertical-align: middle;\n",
       "    }\n",
       "\n",
       "    .dataframe tbody tr th {\n",
       "        vertical-align: top;\n",
       "    }\n",
       "\n",
       "    .dataframe thead th {\n",
       "        text-align: right;\n",
       "    }\n",
       "</style>\n",
       "<table border=\"1\" class=\"dataframe\">\n",
       "  <thead>\n",
       "    <tr style=\"text-align: right;\">\n",
       "      <th></th>\n",
       "      <th>balance</th>\n",
       "      <th>contact_duration</th>\n",
       "      <th>has_subscribed</th>\n",
       "    </tr>\n",
       "  </thead>\n",
       "  <tbody>\n",
       "    <tr>\n",
       "      <th>0</th>\n",
       "      <td>2143.0</td>\n",
       "      <td>261.0</td>\n",
       "      <td>0</td>\n",
       "    </tr>\n",
       "    <tr>\n",
       "      <th>1</th>\n",
       "      <td>29.0</td>\n",
       "      <td>151.0</td>\n",
       "      <td>0</td>\n",
       "    </tr>\n",
       "    <tr>\n",
       "      <th>2</th>\n",
       "      <td>2.0</td>\n",
       "      <td>76.0</td>\n",
       "      <td>0</td>\n",
       "    </tr>\n",
       "    <tr>\n",
       "      <th>3</th>\n",
       "      <td>1506.0</td>\n",
       "      <td>92.0</td>\n",
       "      <td>0</td>\n",
       "    </tr>\n",
       "    <tr>\n",
       "      <th>4</th>\n",
       "      <td>1.0</td>\n",
       "      <td>198.0</td>\n",
       "      <td>0</td>\n",
       "    </tr>\n",
       "    <tr>\n",
       "      <th>...</th>\n",
       "      <td>...</td>\n",
       "      <td>...</td>\n",
       "      <td>...</td>\n",
       "    </tr>\n",
       "    <tr>\n",
       "      <th>45206</th>\n",
       "      <td>825.0</td>\n",
       "      <td>977.0</td>\n",
       "      <td>1</td>\n",
       "    </tr>\n",
       "    <tr>\n",
       "      <th>45207</th>\n",
       "      <td>1729.0</td>\n",
       "      <td>456.0</td>\n",
       "      <td>1</td>\n",
       "    </tr>\n",
       "    <tr>\n",
       "      <th>45208</th>\n",
       "      <td>5715.0</td>\n",
       "      <td>1127.0</td>\n",
       "      <td>1</td>\n",
       "    </tr>\n",
       "    <tr>\n",
       "      <th>45209</th>\n",
       "      <td>668.0</td>\n",
       "      <td>508.0</td>\n",
       "      <td>0</td>\n",
       "    </tr>\n",
       "    <tr>\n",
       "      <th>45210</th>\n",
       "      <td>2971.0</td>\n",
       "      <td>361.0</td>\n",
       "      <td>0</td>\n",
       "    </tr>\n",
       "  </tbody>\n",
       "</table>\n",
       "<p>45211 rows × 3 columns</p>\n",
       "</div>"
      ],
      "text/plain": [
       "       balance  contact_duration has_subscribed\n",
       "0       2143.0             261.0              0\n",
       "1         29.0             151.0              0\n",
       "2          2.0              76.0              0\n",
       "3       1506.0              92.0              0\n",
       "4          1.0             198.0              0\n",
       "...        ...               ...            ...\n",
       "45206    825.0             977.0              1\n",
       "45207   1729.0             456.0              1\n",
       "45208   5715.0            1127.0              1\n",
       "45209    668.0             508.0              0\n",
       "45210   2971.0             361.0              0\n",
       "\n",
       "[45211 rows x 3 columns]"
      ]
     },
     "execution_count": 46,
     "metadata": {},
     "output_type": "execute_result"
    }
   ],
   "source": [
    "df"
   ]
  },
  {
   "cell_type": "markdown",
   "metadata": {},
   "source": [
    "### KNN Default com dados desbalanceados"
   ]
  },
  {
   "cell_type": "markdown",
   "metadata": {},
   "source": [
    "Analisando os dados podemos ver que a classe está desbalanceada, aplicaremos o KNN nos dados sem realizar um balanceamento, para visualizar sua precisão e a quantidade de FP e FN"
   ]
  },
  {
   "cell_type": "code",
   "execution_count": 47,
   "metadata": {},
   "outputs": [
    {
     "data": {
      "text/plain": [
       "<AxesSubplot:xlabel='has_subscribed', ylabel='count'>"
      ]
     },
     "execution_count": 47,
     "metadata": {},
     "output_type": "execute_result"
    },
    {
     "data": {
      "image/png": "[encoded data removed]",
      "text/plain": [
       "<Figure size 432x288 with 1 Axes>"
      ]
     },
     "metadata": {
      "needs_background": "light"
     },
     "output_type": "display_data"
    }
   ],
   "source": [
    "sns.countplot(x= 'has_subscribed', data=df)"
   ]
  },
  {
   "cell_type": "markdown",
   "metadata": {},
   "source": [
    "Coletando os dados de treino e teste"
   ]
  },
  {
   "cell_type": "code",
   "execution_count": 48,
   "metadata": {},
   "outputs": [],
   "source": [
    "x = df.drop('has_subscribed', axis= 1)\n",
    "y = df['has_subscribed']\n",
    "\n",
    "x_train, x_test, y_train, y_test = train_test_split(x, y, stratify=y, shuffle=True)\n",
    "y_train = y_train.astype(int)\n",
    "y_test = y_test.astype(int)\n"
   ]
  },
  {
   "cell_type": "markdown",
   "metadata": {},
   "source": [
    "Declarando a variável para KNN"
   ]
  },
  {
   "cell_type": "code",
   "execution_count": 49,
   "metadata": {},
   "outputs": [],
   "source": [
    "knn = KNeighborsClassifier(n_neighbors=3)"
   ]
  },
  {
   "cell_type": "markdown",
   "metadata": {},
   "source": [
    "Aplicando KNN nos dados"
   ]
  },
  {
   "cell_type": "code",
   "execution_count": 50,
   "metadata": {},
   "outputs": [],
   "source": [
    "knn.fit(x_train, y_train)\n",
    "y_pred = knn.predict(x_test)\n",
    "y_proba = knn.predict_proba(x_test)[:,1]"
   ]
  },
  {
   "attachments": {},
   "cell_type": "markdown",
   "metadata": {},
   "source": [
    "#### Resultados do modelo"
   ]
  },
  {
   "cell_type": "code",
   "execution_count": 51,
   "metadata": {},
   "outputs": [
    {
     "name": "stdout",
     "output_type": "stream",
     "text": [
      "Relatório de classificação: \n",
      "               precision    recall  f1-score   support\n",
      "\n",
      "           0     0.9022    0.9462    0.9237      9981\n",
      "           1     0.3569    0.2254    0.2763      1322\n",
      "\n",
      "    accuracy                         0.8619     11303\n",
      "   macro avg     0.6295    0.5858    0.6000     11303\n",
      "weighted avg     0.8384    0.8619    0.8479     11303\n",
      "\n",
      "Acurácia: 0.8619\n",
      "\n",
      "AUC: 0.5858\n",
      "\n"
     ]
    },
    {
     "data": {
      "image/png": "[encoded data removed]",
      "text/plain": [
       "<Figure size 432x288 with 2 Axes>"
      ]
     },
     "metadata": {
      "needs_background": "light"
     },
     "output_type": "display_data"
    }
   ],
   "source": [
    "ConfusionMatrixDisplay(confusion_matrix=confusion_matrix(y_test, y_pred)).plot()\n",
    "print('Relatório de classificação: \\n', classification_report(y_test, y_pred, digits=4))\n",
    "print('Acurácia: {:.4f}\\n'.format(accuracy_score(y_test, y_pred)))\n",
    "print(\"AUC: {:.4f}\\n\".format(roc_auc_score(y_test, y_pred)))\n"
   ]
  },
  {
   "cell_type": "code",
   "execution_count": 52,
   "metadata": {},
   "outputs": [
    {
     "data": {
      "text/plain": [
       "<seaborn.axisgrid.FacetGrid at 0x1f103713730>"
      ]
     },
     "execution_count": 52,
     "metadata": {},
     "output_type": "execute_result"
    },
    {
     "data": {
      "image/png": "[encoded data removed]",
      "text/plain": [
       "<Figure size 445.125x360 with 1 Axes>"
      ]
     },
     "metadata": {
      "needs_background": "light"
     },
     "output_type": "display_data"
    }
   ],
   "source": [
    "y_pred_proba = knn.predict_proba(x_test)\n",
    "pos_prob = pd.DataFrame(y_pred_proba[np.where(y_test==0),1][0])\n",
    "pos_prob['has_subscribed'] = 0\n",
    "\n",
    "neg_prob = pd.DataFrame(y_pred_proba[np.where(y_test==1),1][0])\n",
    "neg_prob['has_subscribed'] = 1\n",
    "\n",
    "prob_pred = pd.concat([pos_prob, neg_prob], axis=0, ignore_index= True)\n",
    "prob_pred.columns = ['proba', 'has_subscribed']\n",
    "prob_pred\n",
    "sns.displot(prob_pred, x='proba', kind='kde', fill=True, hue='has_subscribed')"
   ]
  },
  {
   "attachments": {},
   "cell_type": "markdown",
   "metadata": {},
   "source": [
    "Podemos visualizar uma alta taxa de FP, além de uma acurácia não tão desejada."
   ]
  },
  {
   "cell_type": "markdown",
   "metadata": {},
   "source": [
    "### KNN Default com dados balanceados"
   ]
  },
  {
   "cell_type": "markdown",
   "metadata": {},
   "source": [
    "Balancearemos os dados utilizando Oversampling e Undersampling para verificar qual obtém melhor eficiência"
   ]
  },
  {
   "cell_type": "markdown",
   "metadata": {},
   "source": [
    "Declarando as variáveis para undersampling e oversampling"
   ]
  },
  {
   "cell_type": "code",
   "execution_count": 53,
   "metadata": {},
   "outputs": [],
   "source": [
    "under_sampler = RandomUnderSampler(random_state=32)\n",
    "over_sampler = RandomOverSampler(random_state=32)"
   ]
  },
  {
   "cell_type": "markdown",
   "metadata": {},
   "source": [
    "#### KNN com undersampling"
   ]
  },
  {
   "cell_type": "markdown",
   "metadata": {},
   "source": [
    "Aplicando undersampling nos dados de treino"
   ]
  },
  {
   "cell_type": "code",
   "execution_count": 54,
   "metadata": {},
   "outputs": [
    {
     "name": "stdout",
     "output_type": "stream",
     "text": [
      "1    3967\n",
      "0    3966\n",
      "Name: has_subscribed, dtype: int64\n"
     ]
    },
    {
     "data": {
      "text/plain": [
       "<AxesSubplot:xlabel='has_subscribed', ylabel='count'>"
      ]
     },
     "execution_count": 54,
     "metadata": {},
     "output_type": "execute_result"
    },
    {
     "data": {
      "image/png": "[encoded data removed]",
      "text/plain": [
       "<Figure size 432x288 with 1 Axes>"
      ]
     },
     "metadata": {
      "needs_background": "light"
     },
     "output_type": "display_data"
    }
   ],
   "source": [
    "y_int = y.astype(int)\n",
    "x_rus, y_rus = under_sampler.fit_resample(x, y_int)\n",
    "x_rus_train, x_rus_test, y_rus_train, y_rus_test = train_test_split(x_rus, y_rus, stratify=y_rus, shuffle=True)\n",
    "print(pd.Series(y_rus_train).value_counts())\n",
    "sns.countplot(x=y_rus_train)"
   ]
  },
  {
   "cell_type": "markdown",
   "metadata": {},
   "source": [
    "Aplicação do algoritmo KNN nos dados de treino, e predição dos dados de teste, balanceados com undersampling"
   ]
  },
  {
   "cell_type": "code",
   "execution_count": 55,
   "metadata": {},
   "outputs": [],
   "source": [
    "knn.fit(x_rus_train, y_rus_train)\n",
    "y_rus_pred = knn.predict(x_rus_test)\n",
    "y_rus_proba = knn.predict_proba(x_rus_test)[:,1]"
   ]
  },
  {
   "attachments": {},
   "cell_type": "markdown",
   "metadata": {},
   "source": [
    "##### Resultados do modelo balanceado com undersampling"
   ]
  },
  {
   "cell_type": "code",
   "execution_count": 56,
   "metadata": {},
   "outputs": [
    {
     "name": "stdout",
     "output_type": "stream",
     "text": [
      "Relatório de classificação: \n",
      "               precision    recall  f1-score   support\n",
      "\n",
      "           0     0.7056    0.6901    0.6977      1323\n",
      "           1     0.6965    0.7118    0.7041      1322\n",
      "\n",
      "    accuracy                         0.7009      2645\n",
      "   macro avg     0.7010    0.7009    0.7009      2645\n",
      "weighted avg     0.7010    0.7009    0.7009      2645\n",
      "\n",
      "Acurácia: 0.7009\n",
      "\n",
      "AUC: 0.7522\n",
      "\n"
     ]
    },
    {
     "data": {
      "image/png": "[encoded data removed]",
      "text/plain": [
       "<Figure size 432x288 with 2 Axes>"
      ]
     },
     "metadata": {
      "needs_background": "light"
     },
     "output_type": "display_data"
    }
   ],
   "source": [
    "ConfusionMatrixDisplay(confusion_matrix=confusion_matrix(y_rus_test, y_rus_pred)).plot()\n",
    "print('Relatório de classificação: \\n', classification_report(y_rus_test, y_rus_pred, digits=4))\n",
    "print('Acurácia: {:.4f}\\n'.format(accuracy_score(y_rus_test, y_rus_pred)))\n",
    "print(\"AUC: {:.4f}\\n\".format(roc_auc_score(y_rus_test, y_rus_proba)))\n"
   ]
  },
  {
   "cell_type": "code",
   "execution_count": 57,
   "metadata": {},
   "outputs": [
    {
     "data": {
      "text/plain": [
       "<seaborn.axisgrid.FacetGrid at 0x1f116a337f0>"
      ]
     },
     "execution_count": 57,
     "metadata": {},
     "output_type": "execute_result"
    },
    {
     "data": {
      "image/png": "[encoded data removed]",
      "text/plain": [
       "<Figure size 445.125x360 with 1 Axes>"
      ]
     },
     "metadata": {
      "needs_background": "light"
     },
     "output_type": "display_data"
    }
   ],
   "source": [
    "y_pred_proba = knn.predict_proba(x_rus_test)\n",
    "pos_prob = pd.DataFrame(y_pred_proba[np.where(y_rus_test==0),1][0])\n",
    "pos_prob['has_subscribed'] = 0\n",
    "\n",
    "neg_prob = pd.DataFrame(y_pred_proba[np.where(y_rus_test==1),1][0])\n",
    "neg_prob['has_subscribed'] = 1\n",
    "\n",
    "prob_pred = pd.concat([pos_prob, neg_prob], axis=0, ignore_index= True)\n",
    "prob_pred.columns = ['proba', 'has_subscribed']\n",
    "prob_pred\n",
    "sns.displot(prob_pred, x='proba', kind='kde', fill=True, hue='has_subscribed')"
   ]
  },
  {
   "attachments": {},
   "cell_type": "markdown",
   "metadata": {},
   "source": [
    "Analisando os resultados vemos um balanceamento na taxa de acertos para as duas classes, porém com uma taxa baixa de acertos em ambos os lados"
   ]
  },
  {
   "cell_type": "markdown",
   "metadata": {},
   "source": [
    "#### KNN com oversampling"
   ]
  },
  {
   "cell_type": "markdown",
   "metadata": {},
   "source": [
    "Agora utilizaremos balancearemos os dados utilizando Oversampling"
   ]
  },
  {
   "cell_type": "code",
   "execution_count": 58,
   "metadata": {},
   "outputs": [
    {
     "name": "stdout",
     "output_type": "stream",
     "text": [
      "0    29942\n",
      "1    29941\n",
      "Name: has_subscribed, dtype: int64\n"
     ]
    },
    {
     "data": {
      "text/plain": [
       "<AxesSubplot:xlabel='has_subscribed', ylabel='count'>"
      ]
     },
     "execution_count": 58,
     "metadata": {},
     "output_type": "execute_result"
    },
    {
     "data": {
      "image/png": "[encoded data removed]",
      "text/plain": [
       "<Figure size 432x288 with 1 Axes>"
      ]
     },
     "metadata": {
      "needs_background": "light"
     },
     "output_type": "display_data"
    }
   ],
   "source": [
    "x_ros, y_ros = over_sampler.fit_resample(x, y_int)\n",
    "x_ros_train, x_ros_test, y_ros_train, y_ros_test = train_test_split(x_ros, y_ros, stratify=y_ros, shuffle=True)\n",
    "print(pd.Series(y_ros_train).value_counts())\n",
    "sns.countplot(x=y_ros_train)"
   ]
  },
  {
   "cell_type": "markdown",
   "metadata": {},
   "source": [
    "Aplicação do algoritmo KNN nos dados de treino, e predição dos dados de teste, balanceados com Oversampling"
   ]
  },
  {
   "cell_type": "code",
   "execution_count": 59,
   "metadata": {},
   "outputs": [],
   "source": [
    "knn.fit(x_ros_train, y_ros_train)\n",
    "y_ros_pred = knn.predict(x_ros_test)\n",
    "y_ros_proba = knn.predict_proba(x_ros_test)[:,1]"
   ]
  },
  {
   "attachments": {},
   "cell_type": "markdown",
   "metadata": {},
   "source": [
    "##### Resultados do modelo balanceado com Oversampling"
   ]
  },
  {
   "cell_type": "code",
   "execution_count": 60,
   "metadata": {},
   "outputs": [
    {
     "name": "stdout",
     "output_type": "stream",
     "text": [
      "Relatório de classificação: \n",
      "               precision    recall  f1-score   support\n",
      "\n",
      "           0     0.9773    0.7897    0.8735      9980\n",
      "           1     0.8236    0.9817    0.8957      9981\n",
      "\n",
      "    accuracy                         0.8857     19961\n",
      "   macro avg     0.9004    0.8857    0.8846     19961\n",
      "weighted avg     0.9004    0.8857    0.8846     19961\n",
      "\n",
      "Acurácia: 0.8857\n",
      "\n",
      "AUC: 0.9331\n",
      "\n"
     ]
    },
    {
     "data": {
      "image/png": "[encoded data removed]",
      "text/plain": [
       "<Figure size 432x288 with 2 Axes>"
      ]
     },
     "metadata": {
      "needs_background": "light"
     },
     "output_type": "display_data"
    }
   ],
   "source": [
    "ConfusionMatrixDisplay(confusion_matrix=confusion_matrix(y_ros_test, y_ros_pred)).plot()\n",
    "print('Relatório de classificação: \\n', classification_report(y_ros_test, y_ros_pred, digits=4))\n",
    "print('Acurácia: {:.4f}\\n'.format(accuracy_score(y_ros_test, y_ros_pred)))\n",
    "print(\"AUC: {:.4f}\\n\".format(roc_auc_score(y_ros_test, y_ros_proba)))\n"
   ]
  },
  {
   "cell_type": "code",
   "execution_count": 61,
   "metadata": {},
   "outputs": [
    {
     "data": {
      "text/plain": [
       "<seaborn.axisgrid.FacetGrid at 0x1f1178fec50>"
      ]
     },
     "execution_count": 61,
     "metadata": {},
     "output_type": "execute_result"
    },
    {
     "data": {
      "image/png": "[encoded data removed]",
      "text/plain": [
       "<Figure size 445.125x360 with 1 Axes>"
      ]
     },
     "metadata": {
      "needs_background": "light"
     },
     "output_type": "display_data"
    }
   ],
   "source": [
    "y_pred_def_proba = knn.predict_proba(x_ros_test)\n",
    "pos_prob = pd.DataFrame(y_pred_def_proba[np.where(y_ros_test==0),1][0])\n",
    "pos_prob['has_subscribed'] = 0\n",
    "\n",
    "neg_prob = pd.DataFrame(y_pred_def_proba[np.where(y_ros_test==1),1][0])\n",
    "neg_prob['has_subscribed'] = 1\n",
    "\n",
    "prob_pred_default = pd.concat([pos_prob, neg_prob], axis=0, ignore_index= True)\n",
    "prob_pred_default.columns = ['proba', 'has_subscribed']\n",
    "prob_pred_default\n",
    "sns.displot(prob_pred_default, x='proba', kind='kde', fill=True, hue='has_subscribed')"
   ]
  },
  {
   "cell_type": "markdown",
   "metadata": {},
   "source": [
    "Analisando os resultados podemos verificar uma alta taxa de acertos da classe positiva, porém uma baixa taxa de acertos da classe negativa"
   ]
  },
  {
   "cell_type": "markdown",
   "metadata": {},
   "source": [
    "### KNN melhorado"
   ]
  },
  {
   "cell_type": "markdown",
   "metadata": {},
   "source": [
    "Utilização do GridSearchCV para definir os melhores parâmetros para o modelo, afim de otimizar a perfomance"
   ]
  },
  {
   "cell_type": "code",
   "execution_count": 62,
   "metadata": {},
   "outputs": [
    {
     "name": "stdout",
     "output_type": "stream",
     "text": [
      "Melhor n_neighbors: 1\n"
     ]
    }
   ],
   "source": [
    "knn_melhorado = KNeighborsClassifier()\n",
    "parameters = {'n_neighbors': np.arange(1, 25)}\n",
    "gscv = GridSearchCV(knn_melhorado, parameters, cv=5)\n",
    "model = gscv.fit(x_ros_train, y_ros_train)\n",
    "print('Melhor n_neighbors:', model.best_estimator_.get_params()['n_neighbors'])\n",
    "y_ros_melhorado_pred = model.predict(x_ros_test)\n",
    "y_ros_melhorado_proba = model.predict_proba(x_ros_test)[:,1]"
   ]
  },
  {
   "attachments": {},
   "cell_type": "markdown",
   "metadata": {},
   "source": [
    "#### Resultados do modelo melhorado"
   ]
  },
  {
   "cell_type": "code",
   "execution_count": 63,
   "metadata": {},
   "outputs": [
    {
     "name": "stdout",
     "output_type": "stream",
     "text": [
      "Relatório de classificação: \n",
      "               precision    recall  f1-score   support\n",
      "\n",
      "           0     0.9849    0.8742    0.9263      9980\n",
      "           1     0.8870    0.9866    0.9341      9981\n",
      "\n",
      "    accuracy                         0.9304     19961\n",
      "   macro avg     0.9359    0.9304    0.9302     19961\n",
      "weighted avg     0.9359    0.9304    0.9302     19961\n",
      "\n",
      "Acurácia: 0.9304\n",
      "\n",
      "AUC: 0.9304\n",
      "\n"
     ]
    },
    {
     "data": {
      "image/png": "[encoded data removed]",
      "text/plain": [
       "<Figure size 432x288 with 2 Axes>"
      ]
     },
     "metadata": {
      "needs_background": "light"
     },
     "output_type": "display_data"
    }
   ],
   "source": [
    "ConfusionMatrixDisplay(confusion_matrix=confusion_matrix(y_ros_test, y_ros_melhorado_pred)).plot()\n",
    "print('Relatório de classificação: \\n', classification_report(y_ros_test, y_ros_melhorado_pred, digits=4))\n",
    "print('Acurácia: {:.4f}\\n'.format(accuracy_score(y_ros_test, y_ros_melhorado_pred)))\n",
    "print(\"AUC: {:.4f}\\n\".format(roc_auc_score(y_ros_test, y_ros_melhorado_proba)))\n"
   ]
  },
  {
   "cell_type": "code",
   "execution_count": 64,
   "metadata": {},
   "outputs": [
    {
     "data": {
      "text/plain": [
       "<seaborn.axisgrid.FacetGrid at 0x1f116df3790>"
      ]
     },
     "execution_count": 64,
     "metadata": {},
     "output_type": "execute_result"
    },
    {
     "data": {
      "image/png": "[encoded data removed]",
      "text/plain": [
       "<Figure size 445.125x360 with 1 Axes>"
      ]
     },
     "metadata": {
      "needs_background": "light"
     },
     "output_type": "display_data"
    }
   ],
   "source": [
    "y_pred_otm_proba = model.predict_proba(x_ros_test)\n",
    "pos_prob = pd.DataFrame(y_pred_otm_proba[np.where(y_ros_test==0),1][0])\n",
    "pos_prob['has_subscribed'] = 0\n",
    "\n",
    "neg_prob = pd.DataFrame(y_pred_otm_proba[np.where(y_ros_test==1),1][0])\n",
    "neg_prob['has_subscribed'] = 1\n",
    "\n",
    "prob_pred_melhorado = pd.concat([pos_prob, neg_prob], axis=0, ignore_index= True)\n",
    "prob_pred_melhorado.columns = ['proba', 'has_subscribed']\n",
    "prob_pred_melhorado\n",
    "sns.displot(prob_pred_melhorado, x='proba', kind='kde', fill=True, hue='has_subscribed')"
   ]
  },
  {
   "cell_type": "markdown",
   "metadata": {},
   "source": [
    "### Default vs Melhorado"
   ]
  },
  {
   "cell_type": "code",
   "execution_count": 65,
   "metadata": {},
   "outputs": [
    {
     "data": {
      "image/png": "[encoded data removed]",
      "text/plain": [
       "<Figure size 432x288 with 1 Axes>"
      ]
     },
     "metadata": {
      "needs_background": "light"
     },
     "output_type": "display_data"
    }
   ],
   "source": [
    "models = [('Default', knn), ('Melhorado', model)]\n",
    "results = []\n",
    "names = []\n",
    "for name, modell in models:\n",
    "    kfold = model_selection.KFold(n_splits=10)\n",
    "    cv_results = model_selection.cross_val_score(modell, x_ros_test, y_ros_test, cv=kfold, scoring='accuracy')\n",
    "    results.append(cv_results)\n",
    "    names.append(name)\n",
    "\n",
    "fig = plt.figure()\n",
    "fig.suptitle('Comparação KNN Default e Melhorado')\n",
    "ax = fig.add_subplot(111)\n",
    "plt.boxplot(results)\n",
    "ax.set_xticklabels(names)\n",
    "plt.show()"
   ]
  },
  {
   "cell_type": "code",
   "execution_count": 66,
   "metadata": {},
   "outputs": [
    {
     "name": "stdout",
     "output_type": "stream",
     "text": [
      "Relatório de classificação Default: \n",
      "               precision    recall  f1-score   support\n",
      "\n",
      "           0     0.9773    0.7897    0.8735      9980\n",
      "           1     0.8236    0.9817    0.8957      9981\n",
      "\n",
      "    accuracy                         0.8857     19961\n",
      "   macro avg     0.9004    0.8857    0.8846     19961\n",
      "weighted avg     0.9004    0.8857    0.8846     19961\n",
      "\n",
      "Acurácia: 0.8857\n",
      "\n",
      "AUC: 0.8857\n",
      "\n",
      "\n",
      "Relatório de classificação Melhorado: \n",
      "               precision    recall  f1-score   support\n",
      "\n",
      "           0     0.9849    0.8742    0.9263      9980\n",
      "           1     0.8870    0.9866    0.9341      9981\n",
      "\n",
      "    accuracy                         0.9304     19961\n",
      "   macro avg     0.9359    0.9304    0.9302     19961\n",
      "weighted avg     0.9359    0.9304    0.9302     19961\n",
      "\n",
      "Acurácia: 0.9304\n",
      "\n",
      "AUC: 0.9304\n",
      "\n"
     ]
    }
   ],
   "source": [
    "print('Relatório de classificação Default: \\n', classification_report(y_ros_test, y_ros_pred, digits=4))\n",
    "print('Acurácia: {:.4f}\\n'.format(accuracy_score(y_ros_test, y_ros_pred)))\n",
    "print(\"AUC: {:.4f}\\n\\n\".format(roc_auc_score(y_ros_test, y_ros_pred)))\n",
    "\n",
    "print('Relatório de classificação Melhorado: \\n', classification_report(y_ros_test, y_ros_melhorado_pred, digits=4))\n",
    "print('Acurácia: {:.4f}\\n'.format(accuracy_score(y_ros_test, y_ros_melhorado_pred)))\n",
    "print(\"AUC: {:.4f}\\n\".format(roc_auc_score(y_ros_test, y_ros_melhorado_proba)))"
   ]
  },
  {
   "cell_type": "code",
   "execution_count": 67,
   "metadata": {},
   "outputs": [
    {
     "data": {
      "text/plain": [
       "<seaborn.axisgrid.FacetGrid at 0x1f1180072b0>"
      ]
     },
     "execution_count": 67,
     "metadata": {},
     "output_type": "execute_result"
    },
    {
     "data": {
      "image/png": "[encoded data removed]",
      "text/plain": [
       "<Figure size 445.125x360 with 1 Axes>"
      ]
     },
     "metadata": {
      "needs_background": "light"
     },
     "output_type": "display_data"
    },
    {
     "data": {
      "image/png": "[encoded data removed]",
      "text/plain": [
       "<Figure size 445.125x360 with 1 Axes>"
      ]
     },
     "metadata": {
      "needs_background": "light"
     },
     "output_type": "display_data"
    }
   ],
   "source": [
    "sns.displot(prob_pred_default, x='proba', kind='kde', fill=True, hue='has_subscribed').set(title='Default')\n",
    "\n",
    "sns.displot(prob_pred_melhorado, x='proba', kind='kde', fill=True, hue='has_subscribed').set(title='Melhorado')"
   ]
  },
  {
   "attachments": {},
   "cell_type": "markdown",
   "metadata": {},
   "source": [
    "Podemos perceber uma melhora significativa nas taxas de FP e FN e um aumento consideravel de acurácia"
   ]
  },
  {
   "attachments": {},
   "cell_type": "markdown",
   "metadata": {},
   "source": [
    "### Conclusões"
   ]
  },
  {
   "attachments": {},
   "cell_type": "markdown",
   "metadata": {},
   "source": [
    "Analisando os resultados é possível concluir que a Hipótese 1 é falsa. É possível obter um classificador com uma boa taxa de acertos utilizando apenas dois atributos do dataset, o atributo de saldo médio anual (V6) e de duração do último contato (V12), o que confirma a segunda hipótese."
   ]
  }
 ],
 "metadata": {
  "kernelspec": {
   "display_name": "Python 3 (ipykernel)",
   "language": "python",
   "name": "python3"
  },
  "language_info": {
   "codemirror_mode": {
    "name": "ipython",
    "version": 3
   },
   "file_extension": ".py",
   "mimetype": "text/x-python",
   "name": "python",
   "nbconvert_exporter": "python",
   "pygments_lexer": "ipython3",
   "version": "3.10.10"
  },
  "vscode": {
   "interpreter": {
    "hash": "50b243c9ee5e0caf212aa139ff51d6dd23ab7a85dbd5a5de6c6f1b7b152bb8cb"
   }
  }
 },
 "nbformat": 4,
 "nbformat_minor": 2
}
