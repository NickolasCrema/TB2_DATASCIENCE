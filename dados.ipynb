{
 "cells": [
  {
   "attachments": {},
   "cell_type": "markdown",
   "metadata": {},
   "source": [
    "### TRABALHO 2 CIÊNCIA DE DADOS \n",
    "Aluno: Nickolas Crema  \n",
    "Professor: Andre Gustavo Maletzke"
   ]
  },
  {
   "attachments": {},
   "cell_type": "markdown",
   "metadata": {},
   "source": [
    "## DATASET BANK-MARKETING\n",
    "### Objetivos do dataset:\n",
    "O dataset se baseia em marketing de campanhas realizadas por telefone de um banco português. O objetivo da classificação é predizer se o cliente vai subscrever um depósito a prazo ou não.\n",
    "\n",
    "### Features\n",
    "O dataset contém 17 \"features\"  \n",
    "V1 - A idade do cliente - Númerico  \n",
    "V2 - O tipo de trabalho que o cliente exerce - Categórico (\"admin.\", \"unknown\", \"unemployed\", \"management\", \"housemaid\", \"entrepreneur\", \"student\", \"blue-collar\", \"self-employed\", \"retired\", \"technician\", \"services\")  \n",
    "V3 - O estado cívil do cliente - Categórico  (\"married\", \"divorced\", \"single\"; note: \"divorced\" means divorced or widowed)  \n",
    "V4 - Nível de escolaridade do cliente - Categórico (\"unknown\", \"secondary\", \"primary\", \"tertiary\")  \n",
    "V5 - Se o cliente tem crédito inadimplente - Binário (\"yes\", \"no\")  \n",
    "V6 - Saldo médio anual - Númerico  \n",
    "V7 - Se o cliente tem crédito habitacional - Binário (\"yes\", \"no\")  \n",
    "V8 - Se o cliente tem empréstimo pessoal - Binário (\"yes\", \"no\")   \n",
    "V9 - Meio de contato - Númerico  \n",
    "V10 - O último dia de contato do mês - Categórico (\"unknown\", \"telephone\", \"cellular\")  \n",
    "V11 - O último mês de contato do ano - Categórico (\"jan\", \"feb\", \"mar\", ..., \"nov\", \"dec\")  \n",
    "V12 - A duração do último contato - Númerico  \n",
    "V13 - Número de contatos realizados nesta campanha para este cliente - Númerico  \n",
    "V14 - Número de dias que se passaram desde que o cliente foi contatado pela última vez em uma campanha anterior - Númerico  \n",
    "V15 - Número de contactos realizados antes desta campanha e para este cliente - Númerico  \n",
    "V16 - Resultado da campanha anterior para este cliente - Categórico  \n",
    "V17 - target y - Se o cliente subscreveu ao depósito a prazo ou não - Binário (\"yes\", \"no\")  \n",
    "  \n",
    "link do dataset: https://www.openml.org/search?type=data&sort=runs&id=1461&status=active"
   ]
  },
  {
   "attachments": {},
   "cell_type": "markdown",
   "metadata": {},
   "source": [
    "### Hipótese\n",
    "H0: O cliente subscrever ou não ao depósito a prazo se da pelo saldo médio anual do cliente e a duração do contato durante a campanha"
   ]
  },
  {
   "cell_type": "code",
   "execution_count": 495,
   "metadata": {},
   "outputs": [],
   "source": [
    "import pandas as pd\n",
    "from scipy.io.arff import loadarff\n",
    "# from matplot import pyplot as plt\n",
    "import numpy as np\n",
    "import seaborn as sns\n",
    "import warnings\n",
    "from sklearn.neighbors import KNeighborsClassifier\n",
    "import matplotlib.pyplot as plt\n",
    "from imblearn.under_sampling import RandomUnderSampler, NearMiss, OneSidedSelection\n",
    "from imblearn.over_sampling import RandomOverSampler, SMOTE\n",
    "from sklearn.metrics import confusion_matrix, ConfusionMatrixDisplay, classification_report, accuracy_score, roc_auc_score\n",
    "from sklearn.model_selection import train_test_split\n",
    "from sklearn.preprocessing import StandardScaler\n",
    "from sklearn.preprocessing import MinMaxScaler\n",
    "from sklearn.preprocessing import RobustScaler\n",
    "from sklearn.model_selection import GridSearchCV\n",
    "\n"
   ]
  },
  {
   "attachments": {},
   "cell_type": "markdown",
   "metadata": {},
   "source": [
    "Verificando as colunas do DataFrame"
   ]
  },
  {
   "cell_type": "code",
   "execution_count": 496,
   "metadata": {},
   "outputs": [
    {
     "data": {
      "text/html": [
       "<div>\n",
       "<style scoped>\n",
       "    .dataframe tbody tr th:only-of-type {\n",
       "        vertical-align: middle;\n",
       "    }\n",
       "\n",
       "    .dataframe tbody tr th {\n",
       "        vertical-align: top;\n",
       "    }\n",
       "\n",
       "    .dataframe thead th {\n",
       "        text-align: right;\n",
       "    }\n",
       "</style>\n",
       "<table border=\"1\" class=\"dataframe\">\n",
       "  <thead>\n",
       "    <tr style=\"text-align: right;\">\n",
       "      <th></th>\n",
       "      <th>V1</th>\n",
       "      <th>V2</th>\n",
       "      <th>V3</th>\n",
       "      <th>V4</th>\n",
       "      <th>V5</th>\n",
       "      <th>V6</th>\n",
       "      <th>V7</th>\n",
       "      <th>V8</th>\n",
       "      <th>V9</th>\n",
       "      <th>V10</th>\n",
       "      <th>V11</th>\n",
       "      <th>V12</th>\n",
       "      <th>V13</th>\n",
       "      <th>V14</th>\n",
       "      <th>V15</th>\n",
       "      <th>V16</th>\n",
       "      <th>Class</th>\n",
       "    </tr>\n",
       "  </thead>\n",
       "  <tbody>\n",
       "    <tr>\n",
       "      <th>0</th>\n",
       "      <td>58.0</td>\n",
       "      <td>b'management'</td>\n",
       "      <td>b'married'</td>\n",
       "      <td>b'tertiary'</td>\n",
       "      <td>b'no'</td>\n",
       "      <td>2143.0</td>\n",
       "      <td>b'yes'</td>\n",
       "      <td>b'no'</td>\n",
       "      <td>b'unknown'</td>\n",
       "      <td>5.0</td>\n",
       "      <td>b'may'</td>\n",
       "      <td>261.0</td>\n",
       "      <td>1.0</td>\n",
       "      <td>-1.0</td>\n",
       "      <td>0.0</td>\n",
       "      <td>b'unknown'</td>\n",
       "      <td>b'1'</td>\n",
       "    </tr>\n",
       "    <tr>\n",
       "      <th>1</th>\n",
       "      <td>44.0</td>\n",
       "      <td>b'technician'</td>\n",
       "      <td>b'single'</td>\n",
       "      <td>b'secondary'</td>\n",
       "      <td>b'no'</td>\n",
       "      <td>29.0</td>\n",
       "      <td>b'yes'</td>\n",
       "      <td>b'no'</td>\n",
       "      <td>b'unknown'</td>\n",
       "      <td>5.0</td>\n",
       "      <td>b'may'</td>\n",
       "      <td>151.0</td>\n",
       "      <td>1.0</td>\n",
       "      <td>-1.0</td>\n",
       "      <td>0.0</td>\n",
       "      <td>b'unknown'</td>\n",
       "      <td>b'1'</td>\n",
       "    </tr>\n",
       "  </tbody>\n",
       "</table>\n",
       "</div>"
      ],
      "text/plain": [
       "     V1             V2          V3            V4     V5      V6      V7  \\\n",
       "0  58.0  b'management'  b'married'   b'tertiary'  b'no'  2143.0  b'yes'   \n",
       "1  44.0  b'technician'   b'single'  b'secondary'  b'no'    29.0  b'yes'   \n",
       "\n",
       "      V8          V9  V10     V11    V12  V13  V14  V15         V16 Class  \n",
       "0  b'no'  b'unknown'  5.0  b'may'  261.0  1.0 -1.0  0.0  b'unknown'  b'1'  \n",
       "1  b'no'  b'unknown'  5.0  b'may'  151.0  1.0 -1.0  0.0  b'unknown'  b'1'  "
      ]
     },
     "execution_count": 496,
     "metadata": {},
     "output_type": "execute_result"
    }
   ],
   "source": [
    "raw_data = loadarff('dataset.arff')\n",
    "df = pd.DataFrame(raw_data[0])\n",
    "df.head(2)"
   ]
  },
  {
   "attachments": {},
   "cell_type": "markdown",
   "metadata": {},
   "source": [
    "Renomeando as colunas do DataFrame"
   ]
  },
  {
   "cell_type": "code",
   "execution_count": 497,
   "metadata": {},
   "outputs": [
    {
     "data": {
      "text/html": [
       "<div>\n",
       "<style scoped>\n",
       "    .dataframe tbody tr th:only-of-type {\n",
       "        vertical-align: middle;\n",
       "    }\n",
       "\n",
       "    .dataframe tbody tr th {\n",
       "        vertical-align: top;\n",
       "    }\n",
       "\n",
       "    .dataframe thead th {\n",
       "        text-align: right;\n",
       "    }\n",
       "</style>\n",
       "<table border=\"1\" class=\"dataframe\">\n",
       "  <thead>\n",
       "    <tr style=\"text-align: right;\">\n",
       "      <th></th>\n",
       "      <th>age</th>\n",
       "      <th>job</th>\n",
       "      <th>marital</th>\n",
       "      <th>education</th>\n",
       "      <th>default_in_credit</th>\n",
       "      <th>balance</th>\n",
       "      <th>housing_loan</th>\n",
       "      <th>personal_loan</th>\n",
       "      <th>contact</th>\n",
       "      <th>last_day_contact_of_month</th>\n",
       "      <th>last_month_contact_of_year</th>\n",
       "      <th>contact_duration</th>\n",
       "      <th>number_of_contacts_performed_during_campaign</th>\n",
       "      <th>last_contact_of_previous_campaign</th>\n",
       "      <th>number_of_contact_of_previous_campaign</th>\n",
       "      <th>outcome_of_previous_campaign</th>\n",
       "      <th>has_subscribed</th>\n",
       "    </tr>\n",
       "  </thead>\n",
       "  <tbody>\n",
       "    <tr>\n",
       "      <th>0</th>\n",
       "      <td>58.0</td>\n",
       "      <td>b'management'</td>\n",
       "      <td>b'married'</td>\n",
       "      <td>b'tertiary'</td>\n",
       "      <td>b'no'</td>\n",
       "      <td>2143.0</td>\n",
       "      <td>b'yes'</td>\n",
       "      <td>b'no'</td>\n",
       "      <td>b'unknown'</td>\n",
       "      <td>5.0</td>\n",
       "      <td>b'may'</td>\n",
       "      <td>261.0</td>\n",
       "      <td>1.0</td>\n",
       "      <td>-1.0</td>\n",
       "      <td>0.0</td>\n",
       "      <td>b'unknown'</td>\n",
       "      <td>b'1'</td>\n",
       "    </tr>\n",
       "    <tr>\n",
       "      <th>1</th>\n",
       "      <td>44.0</td>\n",
       "      <td>b'technician'</td>\n",
       "      <td>b'single'</td>\n",
       "      <td>b'secondary'</td>\n",
       "      <td>b'no'</td>\n",
       "      <td>29.0</td>\n",
       "      <td>b'yes'</td>\n",
       "      <td>b'no'</td>\n",
       "      <td>b'unknown'</td>\n",
       "      <td>5.0</td>\n",
       "      <td>b'may'</td>\n",
       "      <td>151.0</td>\n",
       "      <td>1.0</td>\n",
       "      <td>-1.0</td>\n",
       "      <td>0.0</td>\n",
       "      <td>b'unknown'</td>\n",
       "      <td>b'1'</td>\n",
       "    </tr>\n",
       "    <tr>\n",
       "      <th>2</th>\n",
       "      <td>33.0</td>\n",
       "      <td>b'entrepreneur'</td>\n",
       "      <td>b'married'</td>\n",
       "      <td>b'secondary'</td>\n",
       "      <td>b'no'</td>\n",
       "      <td>2.0</td>\n",
       "      <td>b'yes'</td>\n",
       "      <td>b'yes'</td>\n",
       "      <td>b'unknown'</td>\n",
       "      <td>5.0</td>\n",
       "      <td>b'may'</td>\n",
       "      <td>76.0</td>\n",
       "      <td>1.0</td>\n",
       "      <td>-1.0</td>\n",
       "      <td>0.0</td>\n",
       "      <td>b'unknown'</td>\n",
       "      <td>b'1'</td>\n",
       "    </tr>\n",
       "    <tr>\n",
       "      <th>3</th>\n",
       "      <td>47.0</td>\n",
       "      <td>b'blue-collar'</td>\n",
       "      <td>b'married'</td>\n",
       "      <td>b'unknown'</td>\n",
       "      <td>b'no'</td>\n",
       "      <td>1506.0</td>\n",
       "      <td>b'yes'</td>\n",
       "      <td>b'no'</td>\n",
       "      <td>b'unknown'</td>\n",
       "      <td>5.0</td>\n",
       "      <td>b'may'</td>\n",
       "      <td>92.0</td>\n",
       "      <td>1.0</td>\n",
       "      <td>-1.0</td>\n",
       "      <td>0.0</td>\n",
       "      <td>b'unknown'</td>\n",
       "      <td>b'1'</td>\n",
       "    </tr>\n",
       "    <tr>\n",
       "      <th>4</th>\n",
       "      <td>33.0</td>\n",
       "      <td>b'unknown'</td>\n",
       "      <td>b'single'</td>\n",
       "      <td>b'unknown'</td>\n",
       "      <td>b'no'</td>\n",
       "      <td>1.0</td>\n",
       "      <td>b'no'</td>\n",
       "      <td>b'no'</td>\n",
       "      <td>b'unknown'</td>\n",
       "      <td>5.0</td>\n",
       "      <td>b'may'</td>\n",
       "      <td>198.0</td>\n",
       "      <td>1.0</td>\n",
       "      <td>-1.0</td>\n",
       "      <td>0.0</td>\n",
       "      <td>b'unknown'</td>\n",
       "      <td>b'1'</td>\n",
       "    </tr>\n",
       "    <tr>\n",
       "      <th>5</th>\n",
       "      <td>35.0</td>\n",
       "      <td>b'management'</td>\n",
       "      <td>b'married'</td>\n",
       "      <td>b'tertiary'</td>\n",
       "      <td>b'no'</td>\n",
       "      <td>231.0</td>\n",
       "      <td>b'yes'</td>\n",
       "      <td>b'no'</td>\n",
       "      <td>b'unknown'</td>\n",
       "      <td>5.0</td>\n",
       "      <td>b'may'</td>\n",
       "      <td>139.0</td>\n",
       "      <td>1.0</td>\n",
       "      <td>-1.0</td>\n",
       "      <td>0.0</td>\n",
       "      <td>b'unknown'</td>\n",
       "      <td>b'1'</td>\n",
       "    </tr>\n",
       "    <tr>\n",
       "      <th>6</th>\n",
       "      <td>28.0</td>\n",
       "      <td>b'management'</td>\n",
       "      <td>b'single'</td>\n",
       "      <td>b'tertiary'</td>\n",
       "      <td>b'no'</td>\n",
       "      <td>447.0</td>\n",
       "      <td>b'yes'</td>\n",
       "      <td>b'yes'</td>\n",
       "      <td>b'unknown'</td>\n",
       "      <td>5.0</td>\n",
       "      <td>b'may'</td>\n",
       "      <td>217.0</td>\n",
       "      <td>1.0</td>\n",
       "      <td>-1.0</td>\n",
       "      <td>0.0</td>\n",
       "      <td>b'unknown'</td>\n",
       "      <td>b'1'</td>\n",
       "    </tr>\n",
       "    <tr>\n",
       "      <th>7</th>\n",
       "      <td>42.0</td>\n",
       "      <td>b'entrepreneur'</td>\n",
       "      <td>b'divorced'</td>\n",
       "      <td>b'tertiary'</td>\n",
       "      <td>b'yes'</td>\n",
       "      <td>2.0</td>\n",
       "      <td>b'yes'</td>\n",
       "      <td>b'no'</td>\n",
       "      <td>b'unknown'</td>\n",
       "      <td>5.0</td>\n",
       "      <td>b'may'</td>\n",
       "      <td>380.0</td>\n",
       "      <td>1.0</td>\n",
       "      <td>-1.0</td>\n",
       "      <td>0.0</td>\n",
       "      <td>b'unknown'</td>\n",
       "      <td>b'1'</td>\n",
       "    </tr>\n",
       "    <tr>\n",
       "      <th>8</th>\n",
       "      <td>58.0</td>\n",
       "      <td>b'retired'</td>\n",
       "      <td>b'married'</td>\n",
       "      <td>b'primary'</td>\n",
       "      <td>b'no'</td>\n",
       "      <td>121.0</td>\n",
       "      <td>b'yes'</td>\n",
       "      <td>b'no'</td>\n",
       "      <td>b'unknown'</td>\n",
       "      <td>5.0</td>\n",
       "      <td>b'may'</td>\n",
       "      <td>50.0</td>\n",
       "      <td>1.0</td>\n",
       "      <td>-1.0</td>\n",
       "      <td>0.0</td>\n",
       "      <td>b'unknown'</td>\n",
       "      <td>b'1'</td>\n",
       "    </tr>\n",
       "    <tr>\n",
       "      <th>9</th>\n",
       "      <td>43.0</td>\n",
       "      <td>b'technician'</td>\n",
       "      <td>b'single'</td>\n",
       "      <td>b'secondary'</td>\n",
       "      <td>b'no'</td>\n",
       "      <td>593.0</td>\n",
       "      <td>b'yes'</td>\n",
       "      <td>b'no'</td>\n",
       "      <td>b'unknown'</td>\n",
       "      <td>5.0</td>\n",
       "      <td>b'may'</td>\n",
       "      <td>55.0</td>\n",
       "      <td>1.0</td>\n",
       "      <td>-1.0</td>\n",
       "      <td>0.0</td>\n",
       "      <td>b'unknown'</td>\n",
       "      <td>b'1'</td>\n",
       "    </tr>\n",
       "  </tbody>\n",
       "</table>\n",
       "</div>"
      ],
      "text/plain": [
       "    age              job      marital     education default_in_credit  \\\n",
       "0  58.0    b'management'   b'married'   b'tertiary'             b'no'   \n",
       "1  44.0    b'technician'    b'single'  b'secondary'             b'no'   \n",
       "2  33.0  b'entrepreneur'   b'married'  b'secondary'             b'no'   \n",
       "3  47.0   b'blue-collar'   b'married'    b'unknown'             b'no'   \n",
       "4  33.0       b'unknown'    b'single'    b'unknown'             b'no'   \n",
       "5  35.0    b'management'   b'married'   b'tertiary'             b'no'   \n",
       "6  28.0    b'management'    b'single'   b'tertiary'             b'no'   \n",
       "7  42.0  b'entrepreneur'  b'divorced'   b'tertiary'            b'yes'   \n",
       "8  58.0       b'retired'   b'married'    b'primary'             b'no'   \n",
       "9  43.0    b'technician'    b'single'  b'secondary'             b'no'   \n",
       "\n",
       "   balance housing_loan personal_loan     contact  last_day_contact_of_month  \\\n",
       "0   2143.0       b'yes'         b'no'  b'unknown'                        5.0   \n",
       "1     29.0       b'yes'         b'no'  b'unknown'                        5.0   \n",
       "2      2.0       b'yes'        b'yes'  b'unknown'                        5.0   \n",
       "3   1506.0       b'yes'         b'no'  b'unknown'                        5.0   \n",
       "4      1.0        b'no'         b'no'  b'unknown'                        5.0   \n",
       "5    231.0       b'yes'         b'no'  b'unknown'                        5.0   \n",
       "6    447.0       b'yes'        b'yes'  b'unknown'                        5.0   \n",
       "7      2.0       b'yes'         b'no'  b'unknown'                        5.0   \n",
       "8    121.0       b'yes'         b'no'  b'unknown'                        5.0   \n",
       "9    593.0       b'yes'         b'no'  b'unknown'                        5.0   \n",
       "\n",
       "  last_month_contact_of_year  contact_duration  \\\n",
       "0                     b'may'             261.0   \n",
       "1                     b'may'             151.0   \n",
       "2                     b'may'              76.0   \n",
       "3                     b'may'              92.0   \n",
       "4                     b'may'             198.0   \n",
       "5                     b'may'             139.0   \n",
       "6                     b'may'             217.0   \n",
       "7                     b'may'             380.0   \n",
       "8                     b'may'              50.0   \n",
       "9                     b'may'              55.0   \n",
       "\n",
       "   number_of_contacts_performed_during_campaign  \\\n",
       "0                                           1.0   \n",
       "1                                           1.0   \n",
       "2                                           1.0   \n",
       "3                                           1.0   \n",
       "4                                           1.0   \n",
       "5                                           1.0   \n",
       "6                                           1.0   \n",
       "7                                           1.0   \n",
       "8                                           1.0   \n",
       "9                                           1.0   \n",
       "\n",
       "   last_contact_of_previous_campaign  number_of_contact_of_previous_campaign  \\\n",
       "0                               -1.0                                     0.0   \n",
       "1                               -1.0                                     0.0   \n",
       "2                               -1.0                                     0.0   \n",
       "3                               -1.0                                     0.0   \n",
       "4                               -1.0                                     0.0   \n",
       "5                               -1.0                                     0.0   \n",
       "6                               -1.0                                     0.0   \n",
       "7                               -1.0                                     0.0   \n",
       "8                               -1.0                                     0.0   \n",
       "9                               -1.0                                     0.0   \n",
       "\n",
       "  outcome_of_previous_campaign has_subscribed  \n",
       "0                   b'unknown'           b'1'  \n",
       "1                   b'unknown'           b'1'  \n",
       "2                   b'unknown'           b'1'  \n",
       "3                   b'unknown'           b'1'  \n",
       "4                   b'unknown'           b'1'  \n",
       "5                   b'unknown'           b'1'  \n",
       "6                   b'unknown'           b'1'  \n",
       "7                   b'unknown'           b'1'  \n",
       "8                   b'unknown'           b'1'  \n",
       "9                   b'unknown'           b'1'  "
      ]
     },
     "execution_count": 497,
     "metadata": {},
     "output_type": "execute_result"
    }
   ],
   "source": [
    "df.rename(columns={'V1': 'age', 'V2': 'job', 'V3': 'marital', 'V4': 'education', 'V5': 'default_in_credit', 'V6': 'balance', 'V7': 'housing_loan', 'V8': 'personal_loan', 'V9': 'contact', 'V10': 'last_day_contact_of_month', 'V11': 'last_month_contact_of_year', 'V12': 'contact_duration', 'V13': 'number_of_contacts_performed_during_campaign', 'V14': 'last_contact_of_previous_campaign', 'V15': 'number_of_contact_of_previous_campaign', 'V16': 'outcome_of_previous_campaign', 'Class': 'has_subscribed'}, inplace = True)\n",
    "df.head(10)"
   ]
  },
  {
   "attachments": {},
   "cell_type": "markdown",
   "metadata": {},
   "source": [
    "Verificando os valores do atributo de resultado da campanha anterior"
   ]
  },
  {
   "cell_type": "code",
   "execution_count": 498,
   "metadata": {},
   "outputs": [
    {
     "data": {
      "text/html": [
       "<div>\n",
       "<style scoped>\n",
       "    .dataframe tbody tr th:only-of-type {\n",
       "        vertical-align: middle;\n",
       "    }\n",
       "\n",
       "    .dataframe tbody tr th {\n",
       "        vertical-align: top;\n",
       "    }\n",
       "\n",
       "    .dataframe thead th {\n",
       "        text-align: right;\n",
       "    }\n",
       "</style>\n",
       "<table border=\"1\" class=\"dataframe\">\n",
       "  <thead>\n",
       "    <tr style=\"text-align: right;\">\n",
       "      <th></th>\n",
       "      <th>b'failure'</th>\n",
       "      <th>b'other'</th>\n",
       "      <th>b'success'</th>\n",
       "      <th>b'unknown'</th>\n",
       "    </tr>\n",
       "  </thead>\n",
       "  <tbody>\n",
       "    <tr>\n",
       "      <th>0</th>\n",
       "      <td>0</td>\n",
       "      <td>0</td>\n",
       "      <td>0</td>\n",
       "      <td>1</td>\n",
       "    </tr>\n",
       "    <tr>\n",
       "      <th>1</th>\n",
       "      <td>0</td>\n",
       "      <td>0</td>\n",
       "      <td>0</td>\n",
       "      <td>1</td>\n",
       "    </tr>\n",
       "    <tr>\n",
       "      <th>2</th>\n",
       "      <td>0</td>\n",
       "      <td>0</td>\n",
       "      <td>0</td>\n",
       "      <td>1</td>\n",
       "    </tr>\n",
       "    <tr>\n",
       "      <th>3</th>\n",
       "      <td>0</td>\n",
       "      <td>0</td>\n",
       "      <td>0</td>\n",
       "      <td>1</td>\n",
       "    </tr>\n",
       "    <tr>\n",
       "      <th>4</th>\n",
       "      <td>0</td>\n",
       "      <td>0</td>\n",
       "      <td>0</td>\n",
       "      <td>1</td>\n",
       "    </tr>\n",
       "    <tr>\n",
       "      <th>5</th>\n",
       "      <td>0</td>\n",
       "      <td>0</td>\n",
       "      <td>0</td>\n",
       "      <td>1</td>\n",
       "    </tr>\n",
       "    <tr>\n",
       "      <th>6</th>\n",
       "      <td>0</td>\n",
       "      <td>0</td>\n",
       "      <td>0</td>\n",
       "      <td>1</td>\n",
       "    </tr>\n",
       "    <tr>\n",
       "      <th>7</th>\n",
       "      <td>0</td>\n",
       "      <td>0</td>\n",
       "      <td>0</td>\n",
       "      <td>1</td>\n",
       "    </tr>\n",
       "    <tr>\n",
       "      <th>8</th>\n",
       "      <td>0</td>\n",
       "      <td>0</td>\n",
       "      <td>0</td>\n",
       "      <td>1</td>\n",
       "    </tr>\n",
       "    <tr>\n",
       "      <th>9</th>\n",
       "      <td>0</td>\n",
       "      <td>0</td>\n",
       "      <td>0</td>\n",
       "      <td>1</td>\n",
       "    </tr>\n",
       "  </tbody>\n",
       "</table>\n",
       "</div>"
      ],
      "text/plain": [
       "   b'failure'  b'other'  b'success'  b'unknown'\n",
       "0           0         0           0           1\n",
       "1           0         0           0           1\n",
       "2           0         0           0           1\n",
       "3           0         0           0           1\n",
       "4           0         0           0           1\n",
       "5           0         0           0           1\n",
       "6           0         0           0           1\n",
       "7           0         0           0           1\n",
       "8           0         0           0           1\n",
       "9           0         0           0           1"
      ]
     },
     "execution_count": 498,
     "metadata": {},
     "output_type": "execute_result"
    }
   ],
   "source": [
    "df_outcome_previous = pd.get_dummies(df['outcome_of_previous_campaign'])\n",
    "df_outcome_previous.head(10)"
   ]
  },
  {
   "attachments": {},
   "cell_type": "markdown",
   "metadata": {},
   "source": [
    "Convertendo os valores de categórico para numérico do atributo de resultado da campanha anterior"
   ]
  },
  {
   "cell_type": "code",
   "execution_count": 499,
   "metadata": {},
   "outputs": [
    {
     "name": "stdout",
     "output_type": "stream",
     "text": [
      "{b'failure': 0, b'success': 1, b'other': 2, b'unknown': 3}\n"
     ]
    }
   ],
   "source": [
    "previous_outcome_campaign_dict = {b'failure': 0, b'success': 1, b'other': 2, b'unknown': 3}\n",
    "for previous_outcome in previous_outcome_campaign_dict.keys():\n",
    "    df['outcome_of_previous_campaign'].loc[(df['outcome_of_previous_campaign'] == previous_outcome)] = previous_outcome_campaign_dict[previous_outcome]\n",
    "    warnings.filterwarnings('ignore')\n",
    "print(previous_outcome_campaign_dict)"
   ]
  },
  {
   "attachments": {},
   "cell_type": "markdown",
   "metadata": {},
   "source": [
    "Convertendo os valores de binário para numérico do target"
   ]
  },
  {
   "cell_type": "code",
   "execution_count": 500,
   "metadata": {},
   "outputs": [
    {
     "name": "stdout",
     "output_type": "stream",
     "text": [
      "{b'1': 1, b'2': 2}\n"
     ]
    }
   ],
   "source": [
    "dict_subscribed = {b'1': 1, b'2': 2}\n",
    "for subs in dict_subscribed.keys():\n",
    "    df['has_subscribed'].loc[(df['has_subscribed'] == subs)] = dict_subscribed[subs]\n",
    "    warnings.filterwarnings('ignore')\n",
    "print(dict_subscribed)"
   ]
  },
  {
   "attachments": {},
   "cell_type": "markdown",
   "metadata": {},
   "source": [
    "Eliminando atributos que não utilizaremos na hipótese"
   ]
  },
  {
   "cell_type": "code",
   "execution_count": 501,
   "metadata": {},
   "outputs": [],
   "source": [
    "df.drop(['age', 'last_contact_of_previous_campaign', 'contact', 'job', 'number_of_contacts_performed_during_campaign', 'marital', 'education', 'default_in_credit', 'housing_loan', 'personal_loan', 'last_day_contact_of_month', 'last_month_contact_of_year', 'number_of_contact_of_previous_campaign'], axis=1, inplace=True)"
   ]
  },
  {
   "attachments": {},
   "cell_type": "markdown",
   "metadata": {},
   "source": [
    "Eliminando registros com dados faltantes"
   ]
  },
  {
   "cell_type": "code",
   "execution_count": 502,
   "metadata": {},
   "outputs": [],
   "source": [
    "df.dropna(inplace=True)"
   ]
  },
  {
   "cell_type": "code",
   "execution_count": 503,
   "metadata": {},
   "outputs": [
    {
     "data": {
      "text/html": [
       "<div>\n",
       "<style scoped>\n",
       "    .dataframe tbody tr th:only-of-type {\n",
       "        vertical-align: middle;\n",
       "    }\n",
       "\n",
       "    .dataframe tbody tr th {\n",
       "        vertical-align: top;\n",
       "    }\n",
       "\n",
       "    .dataframe thead th {\n",
       "        text-align: right;\n",
       "    }\n",
       "</style>\n",
       "<table border=\"1\" class=\"dataframe\">\n",
       "  <thead>\n",
       "    <tr style=\"text-align: right;\">\n",
       "      <th></th>\n",
       "      <th>balance</th>\n",
       "      <th>contact_duration</th>\n",
       "      <th>outcome_of_previous_campaign</th>\n",
       "      <th>has_subscribed</th>\n",
       "    </tr>\n",
       "  </thead>\n",
       "  <tbody>\n",
       "    <tr>\n",
       "      <th>0</th>\n",
       "      <td>2143.0</td>\n",
       "      <td>261.0</td>\n",
       "      <td>3</td>\n",
       "      <td>1</td>\n",
       "    </tr>\n",
       "    <tr>\n",
       "      <th>1</th>\n",
       "      <td>29.0</td>\n",
       "      <td>151.0</td>\n",
       "      <td>3</td>\n",
       "      <td>1</td>\n",
       "    </tr>\n",
       "    <tr>\n",
       "      <th>2</th>\n",
       "      <td>2.0</td>\n",
       "      <td>76.0</td>\n",
       "      <td>3</td>\n",
       "      <td>1</td>\n",
       "    </tr>\n",
       "    <tr>\n",
       "      <th>3</th>\n",
       "      <td>1506.0</td>\n",
       "      <td>92.0</td>\n",
       "      <td>3</td>\n",
       "      <td>1</td>\n",
       "    </tr>\n",
       "    <tr>\n",
       "      <th>4</th>\n",
       "      <td>1.0</td>\n",
       "      <td>198.0</td>\n",
       "      <td>3</td>\n",
       "      <td>1</td>\n",
       "    </tr>\n",
       "    <tr>\n",
       "      <th>...</th>\n",
       "      <td>...</td>\n",
       "      <td>...</td>\n",
       "      <td>...</td>\n",
       "      <td>...</td>\n",
       "    </tr>\n",
       "    <tr>\n",
       "      <th>45206</th>\n",
       "      <td>825.0</td>\n",
       "      <td>977.0</td>\n",
       "      <td>3</td>\n",
       "      <td>2</td>\n",
       "    </tr>\n",
       "    <tr>\n",
       "      <th>45207</th>\n",
       "      <td>1729.0</td>\n",
       "      <td>456.0</td>\n",
       "      <td>3</td>\n",
       "      <td>2</td>\n",
       "    </tr>\n",
       "    <tr>\n",
       "      <th>45208</th>\n",
       "      <td>5715.0</td>\n",
       "      <td>1127.0</td>\n",
       "      <td>1</td>\n",
       "      <td>2</td>\n",
       "    </tr>\n",
       "    <tr>\n",
       "      <th>45209</th>\n",
       "      <td>668.0</td>\n",
       "      <td>508.0</td>\n",
       "      <td>3</td>\n",
       "      <td>1</td>\n",
       "    </tr>\n",
       "    <tr>\n",
       "      <th>45210</th>\n",
       "      <td>2971.0</td>\n",
       "      <td>361.0</td>\n",
       "      <td>2</td>\n",
       "      <td>1</td>\n",
       "    </tr>\n",
       "  </tbody>\n",
       "</table>\n",
       "<p>45211 rows × 4 columns</p>\n",
       "</div>"
      ],
      "text/plain": [
       "       balance  contact_duration outcome_of_previous_campaign has_subscribed\n",
       "0       2143.0             261.0                            3              1\n",
       "1         29.0             151.0                            3              1\n",
       "2          2.0              76.0                            3              1\n",
       "3       1506.0              92.0                            3              1\n",
       "4          1.0             198.0                            3              1\n",
       "...        ...               ...                          ...            ...\n",
       "45206    825.0             977.0                            3              2\n",
       "45207   1729.0             456.0                            3              2\n",
       "45208   5715.0            1127.0                            1              2\n",
       "45209    668.0             508.0                            3              1\n",
       "45210   2971.0             361.0                            2              1\n",
       "\n",
       "[45211 rows x 4 columns]"
      ]
     },
     "execution_count": 503,
     "metadata": {},
     "output_type": "execute_result"
    }
   ],
   "source": [
    "df"
   ]
  },
  {
   "attachments": {},
   "cell_type": "markdown",
   "metadata": {},
   "source": [
    "Analisando os dados podemos ver que a classe está desbalanceada, aplicaremos o KNN nos dados sem realizar um balanceamento, para visualizar sua acurácia e a quantidade de FP e FN"
   ]
  },
  {
   "cell_type": "code",
   "execution_count": 504,
   "metadata": {},
   "outputs": [
    {
     "data": {
      "text/plain": [
       "<AxesSubplot:xlabel='has_subscribed', ylabel='count'>"
      ]
     },
     "execution_count": 504,
     "metadata": {},
     "output_type": "execute_result"
    },
    {
     "data": {
      "image/png": "[encoded data removed]",
      "text/plain": [
       "<Figure size 432x288 with 1 Axes>"
      ]
     },
     "metadata": {
      "needs_background": "light"
     },
     "output_type": "display_data"
    }
   ],
   "source": [
    "sns.countplot(x= 'has_subscribed', data=df)"
   ]
  },
  {
   "attachments": {},
   "cell_type": "markdown",
   "metadata": {},
   "source": [
    "Coletando os dados de treino e teste"
   ]
  },
  {
   "cell_type": "code",
   "execution_count": 505,
   "metadata": {},
   "outputs": [
    {
     "ename": "ValueError",
     "evalue": "Length mismatch: Expected axis has 3 elements, new values have 2 elements",
     "output_type": "error",
     "traceback": [
      "\u001b[1;31m---------------------------------------------------------------------------\u001b[0m",
      "\u001b[1;31mValueError\u001b[0m                                Traceback (most recent call last)",
      "\u001b[1;32md:\\ICD\\TB2_DATASCIENCE\\dados.ipynb Célula 23\u001b[0m in \u001b[0;36m<cell line: 6>\u001b[1;34m()\u001b[0m\n\u001b[0;32m      <a href='vscode-notebook-cell:/d%3A/ICD/TB2_DATASCIENCE/dados.ipynb#X52sZmlsZQ%3D%3D?line=3'>4</a>\u001b[0m scaler \u001b[39m=\u001b[39m MinMaxScaler()\n\u001b[0;32m      <a href='vscode-notebook-cell:/d%3A/ICD/TB2_DATASCIENCE/dados.ipynb#X52sZmlsZQ%3D%3D?line=4'>5</a>\u001b[0m x \u001b[39m=\u001b[39m pd\u001b[39m.\u001b[39mDataFrame(scaler\u001b[39m.\u001b[39mfit_transform(x))\n\u001b[1;32m----> <a href='vscode-notebook-cell:/d%3A/ICD/TB2_DATASCIENCE/dados.ipynb#X52sZmlsZQ%3D%3D?line=5'>6</a>\u001b[0m x\u001b[39m.\u001b[39mcolumns \u001b[39m=\u001b[39m df\u001b[39m.\u001b[39mcolumns[:\u001b[39m2\u001b[39m]\n\u001b[0;32m      <a href='vscode-notebook-cell:/d%3A/ICD/TB2_DATASCIENCE/dados.ipynb#X52sZmlsZQ%3D%3D?line=7'>8</a>\u001b[0m x_train, x_test, y_train, y_test \u001b[39m=\u001b[39m train_test_split(x, y, stratify\u001b[39m=\u001b[39my, shuffle\u001b[39m=\u001b[39m\u001b[39mTrue\u001b[39;00m)\n\u001b[0;32m      <a href='vscode-notebook-cell:/d%3A/ICD/TB2_DATASCIENCE/dados.ipynb#X52sZmlsZQ%3D%3D?line=8'>9</a>\u001b[0m y_train \u001b[39m=\u001b[39m y_train\u001b[39m.\u001b[39mastype(\u001b[39mint\u001b[39m)\n",
      "File \u001b[1;32m~\\AppData\\Local\\Packages\\PythonSoftwareFoundation.Python.3.10_qbz5n2kfra8p0\\LocalCache\\local-packages\\Python310\\site-packages\\pandas\\core\\generic.py:5915\u001b[0m, in \u001b[0;36mNDFrame.__setattr__\u001b[1;34m(self, name, value)\u001b[0m\n\u001b[0;32m   5913\u001b[0m \u001b[39mtry\u001b[39;00m:\n\u001b[0;32m   5914\u001b[0m     \u001b[39mobject\u001b[39m\u001b[39m.\u001b[39m\u001b[39m__getattribute__\u001b[39m(\u001b[39mself\u001b[39m, name)\n\u001b[1;32m-> 5915\u001b[0m     \u001b[39mreturn\u001b[39;00m \u001b[39mobject\u001b[39;49m\u001b[39m.\u001b[39;49m\u001b[39m__setattr__\u001b[39;49m(\u001b[39mself\u001b[39;49m, name, value)\n\u001b[0;32m   5916\u001b[0m \u001b[39mexcept\u001b[39;00m \u001b[39mAttributeError\u001b[39;00m:\n\u001b[0;32m   5917\u001b[0m     \u001b[39mpass\u001b[39;00m\n",
      "File \u001b[1;32m~\\AppData\\Local\\Packages\\PythonSoftwareFoundation.Python.3.10_qbz5n2kfra8p0\\LocalCache\\local-packages\\Python310\\site-packages\\pandas\\_libs\\properties.pyx:69\u001b[0m, in \u001b[0;36mpandas._libs.properties.AxisProperty.__set__\u001b[1;34m()\u001b[0m\n",
      "File \u001b[1;32m~\\AppData\\Local\\Packages\\PythonSoftwareFoundation.Python.3.10_qbz5n2kfra8p0\\LocalCache\\local-packages\\Python310\\site-packages\\pandas\\core\\generic.py:823\u001b[0m, in \u001b[0;36mNDFrame._set_axis\u001b[1;34m(self, axis, labels)\u001b[0m\n\u001b[0;32m    821\u001b[0m \u001b[39mdef\u001b[39;00m \u001b[39m_set_axis\u001b[39m(\u001b[39mself\u001b[39m, axis: \u001b[39mint\u001b[39m, labels: AnyArrayLike \u001b[39m|\u001b[39m \u001b[39mlist\u001b[39m) \u001b[39m-\u001b[39m\u001b[39m>\u001b[39m \u001b[39mNone\u001b[39;00m:\n\u001b[0;32m    822\u001b[0m     labels \u001b[39m=\u001b[39m ensure_index(labels)\n\u001b[1;32m--> 823\u001b[0m     \u001b[39mself\u001b[39;49m\u001b[39m.\u001b[39;49m_mgr\u001b[39m.\u001b[39;49mset_axis(axis, labels)\n\u001b[0;32m    824\u001b[0m     \u001b[39mself\u001b[39m\u001b[39m.\u001b[39m_clear_item_cache()\n",
      "File \u001b[1;32m~\\AppData\\Local\\Packages\\PythonSoftwareFoundation.Python.3.10_qbz5n2kfra8p0\\LocalCache\\local-packages\\Python310\\site-packages\\pandas\\core\\internals\\managers.py:230\u001b[0m, in \u001b[0;36mBaseBlockManager.set_axis\u001b[1;34m(self, axis, new_labels)\u001b[0m\n\u001b[0;32m    228\u001b[0m \u001b[39mdef\u001b[39;00m \u001b[39mset_axis\u001b[39m(\u001b[39mself\u001b[39m, axis: \u001b[39mint\u001b[39m, new_labels: Index) \u001b[39m-\u001b[39m\u001b[39m>\u001b[39m \u001b[39mNone\u001b[39;00m:\n\u001b[0;32m    229\u001b[0m     \u001b[39m# Caller is responsible for ensuring we have an Index object.\u001b[39;00m\n\u001b[1;32m--> 230\u001b[0m     \u001b[39mself\u001b[39;49m\u001b[39m.\u001b[39;49m_validate_set_axis(axis, new_labels)\n\u001b[0;32m    231\u001b[0m     \u001b[39mself\u001b[39m\u001b[39m.\u001b[39maxes[axis] \u001b[39m=\u001b[39m new_labels\n",
      "File \u001b[1;32m~\\AppData\\Local\\Packages\\PythonSoftwareFoundation.Python.3.10_qbz5n2kfra8p0\\LocalCache\\local-packages\\Python310\\site-packages\\pandas\\core\\internals\\base.py:70\u001b[0m, in \u001b[0;36mDataManager._validate_set_axis\u001b[1;34m(self, axis, new_labels)\u001b[0m\n\u001b[0;32m     67\u001b[0m     \u001b[39mpass\u001b[39;00m\n\u001b[0;32m     69\u001b[0m \u001b[39melif\u001b[39;00m new_len \u001b[39m!=\u001b[39m old_len:\n\u001b[1;32m---> 70\u001b[0m     \u001b[39mraise\u001b[39;00m \u001b[39mValueError\u001b[39;00m(\n\u001b[0;32m     71\u001b[0m         \u001b[39mf\u001b[39m\u001b[39m\"\u001b[39m\u001b[39mLength mismatch: Expected axis has \u001b[39m\u001b[39m{\u001b[39;00mold_len\u001b[39m}\u001b[39;00m\u001b[39m elements, new \u001b[39m\u001b[39m\"\u001b[39m\n\u001b[0;32m     72\u001b[0m         \u001b[39mf\u001b[39m\u001b[39m\"\u001b[39m\u001b[39mvalues have \u001b[39m\u001b[39m{\u001b[39;00mnew_len\u001b[39m}\u001b[39;00m\u001b[39m elements\u001b[39m\u001b[39m\"\u001b[39m\n\u001b[0;32m     73\u001b[0m     )\n",
      "\u001b[1;31mValueError\u001b[0m: Length mismatch: Expected axis has 3 elements, new values have 2 elements"
     ]
    }
   ],
   "source": [
    "x = df.drop(['has_subscribed'], axis= 1)\n",
    "y = df['has_subscribed']\n",
    "\n",
    "scaler = MinMaxScaler()\n",
    "x = pd.DataFrame(scaler.fit_transform(x))\n",
    "x.columns = df.columns[:2]\n",
    "\n",
    "x_train, x_test, y_train, y_test = train_test_split(x, y, stratify=y, shuffle=True)\n",
    "y_train = y_train.astype(int)\n",
    "y_test = y_test.astype(int)\n"
   ]
  },
  {
   "attachments": {},
   "cell_type": "markdown",
   "metadata": {},
   "source": [
    "Declarando a variável para KNN"
   ]
  },
  {
   "cell_type": "code",
   "execution_count": 506,
   "metadata": {},
   "outputs": [],
   "source": [
    "knn = KNeighborsClassifier(n_neighbors=3)"
   ]
  },
  {
   "attachments": {},
   "cell_type": "markdown",
   "metadata": {},
   "source": [
    "Aplicando KNN nos dados"
   ]
  },
  {
   "cell_type": "code",
   "execution_count": 507,
   "metadata": {},
   "outputs": [],
   "source": [
    "knn.fit(x_train, y_train)\n",
    "y_pred = knn.predict(x_test)\n",
    "y_proba = knn.predict_proba(x_test)[:,1]"
   ]
  },
  {
   "attachments": {},
   "cell_type": "markdown",
   "metadata": {},
   "source": [
    "Resultados do modelo"
   ]
  },
  {
   "cell_type": "code",
   "execution_count": 508,
   "metadata": {},
   "outputs": [
    {
     "name": "stdout",
     "output_type": "stream",
     "text": [
      "Relatório de classificação: \n",
      "               precision    recall  f1-score   support\n",
      "\n",
      "           1     0.9037    0.9446    0.9237      9981\n",
      "           2     0.3644    0.2398    0.2892      1322\n",
      "\n",
      "    accuracy                         0.8622     11303\n",
      "   macro avg     0.6340    0.5922    0.6065     11303\n",
      "weighted avg     0.8406    0.8622    0.8495     11303\n",
      "\n",
      "Acurácia: 0.8622\n",
      "\n",
      "AUC: 0.5922\n",
      "\n"
     ]
    },
    {
     "data": {
      "image/png": "[encoded data removed]",
      "text/plain": [
       "<Figure size 432x288 with 2 Axes>"
      ]
     },
     "metadata": {
      "needs_background": "light"
     },
     "output_type": "display_data"
    }
   ],
   "source": [
    "ConfusionMatrixDisplay(confusion_matrix=confusion_matrix(y_test, y_pred)).plot()\n",
    "print('Relatório de classificação: \\n', classification_report(y_test, y_pred, digits=4))\n",
    "print('Acurácia: {:.4f}\\n'.format(accuracy_score(y_test, y_pred)))\n",
    "print(\"AUC: {:.4f}\\n\".format(roc_auc_score(y_test, y_pred)))\n"
   ]
  },
  {
   "attachments": {},
   "cell_type": "markdown",
   "metadata": {},
   "source": [
    "Podemos visualizar uma alta taxa de FP, além de uma acurácia não tão desejada, faremos o balanceamento dos dados, tanto utilizando undersampling quanto utilizando oversampling para visualizar qual obtém resultados mais desejáveis"
   ]
  },
  {
   "attachments": {},
   "cell_type": "markdown",
   "metadata": {},
   "source": [
    "Declarando as variáveis para undersampling e oversampling"
   ]
  },
  {
   "cell_type": "code",
   "execution_count": 509,
   "metadata": {},
   "outputs": [],
   "source": [
    "under_sampler = RandomUnderSampler(random_state=32)\n",
    "over_sampler = RandomOverSampler(random_state=32)"
   ]
  },
  {
   "attachments": {},
   "cell_type": "markdown",
   "metadata": {},
   "source": [
    "Aplicando undersampling nos dados de treino"
   ]
  },
  {
   "cell_type": "code",
   "execution_count": 510,
   "metadata": {},
   "outputs": [
    {
     "name": "stdout",
     "output_type": "stream",
     "text": [
      "2    3967\n",
      "1    3966\n",
      "Name: has_subscribed, dtype: int64\n"
     ]
    },
    {
     "data": {
      "text/plain": [
       "<AxesSubplot:xlabel='has_subscribed', ylabel='count'>"
      ]
     },
     "execution_count": 510,
     "metadata": {},
     "output_type": "execute_result"
    },
    {
     "data": {
      "image/png": "[encoded data removed]",
      "text/plain": [
       "<Figure size 432x288 with 1 Axes>"
      ]
     },
     "metadata": {
      "needs_background": "light"
     },
     "output_type": "display_data"
    }
   ],
   "source": [
    "y_int = y.astype(int)\n",
    "x_rus, y_rus = under_sampler.fit_resample(x, y_int)\n",
    "x_rus_train, x_rus_test, y_rus_train, y_rus_test = train_test_split(x_rus, y_rus, stratify=y_rus, shuffle=True)\n",
    "print(pd.Series(y_rus_train).value_counts())\n",
    "sns.countplot(x=y_rus_train)"
   ]
  },
  {
   "attachments": {},
   "cell_type": "markdown",
   "metadata": {},
   "source": [
    "Aplicação do algoritmo KNN nos dados de treino, e predição dos dados de teste, balanceados com undersampling"
   ]
  },
  {
   "cell_type": "code",
   "execution_count": 511,
   "metadata": {},
   "outputs": [],
   "source": [
    "knn.fit(x_rus_train, y_rus_train)\n",
    "y_rus_pred = knn.predict(x_rus_test)\n",
    "y_rus_proba = knn.predict_proba(x_rus_test)[:,1]"
   ]
  },
  {
   "attachments": {},
   "cell_type": "markdown",
   "metadata": {},
   "source": [
    "Resultados do modelo balanceado com undersampling"
   ]
  },
  {
   "cell_type": "code",
   "execution_count": 512,
   "metadata": {},
   "outputs": [
    {
     "name": "stdout",
     "output_type": "stream",
     "text": [
      "Relatório de classificação: \n",
      "               precision    recall  f1-score   support\n",
      "\n",
      "           1     0.7403    0.7498    0.7450      1323\n",
      "           2     0.7464    0.7368    0.7415      1322\n",
      "\n",
      "    accuracy                         0.7433      2645\n",
      "   macro avg     0.7433    0.7433    0.7433      2645\n",
      "weighted avg     0.7433    0.7433    0.7433      2645\n",
      "\n",
      "Acurácia: 0.7433\n",
      "\n",
      "AUC: 0.7952\n",
      "\n"
     ]
    },
    {
     "data": {
      "image/png": "[encoded data removed]",
      "text/plain": [
       "<Figure size 432x288 with 2 Axes>"
      ]
     },
     "metadata": {
      "needs_background": "light"
     },
     "output_type": "display_data"
    }
   ],
   "source": [
    "ConfusionMatrixDisplay(confusion_matrix=confusion_matrix(y_rus_test, y_rus_pred)).plot()\n",
    "print('Relatório de classificação: \\n', classification_report(y_rus_test, y_rus_pred, digits=4))\n",
    "print('Acurácia: {:.4f}\\n'.format(accuracy_score(y_rus_test, y_rus_pred)))\n",
    "print(\"AUC: {:.4f}\\n\".format(roc_auc_score(y_rus_test, y_rus_proba)))"
   ]
  },
  {
   "attachments": {},
   "cell_type": "markdown",
   "metadata": {},
   "source": [
    "Analisando os resultados vemos um balanceamento na matriz de confusão, porém com uma taxa baixa de acertos em ambos os lados"
   ]
  },
  {
   "attachments": {},
   "cell_type": "markdown",
   "metadata": {},
   "source": [
    "Agora utilizaremos balancearemos os dados utilizando Oversampling"
   ]
  },
  {
   "cell_type": "code",
   "execution_count": 513,
   "metadata": {},
   "outputs": [
    {
     "name": "stdout",
     "output_type": "stream",
     "text": [
      "1    29942\n",
      "2    29941\n",
      "Name: has_subscribed, dtype: int64\n"
     ]
    },
    {
     "data": {
      "text/plain": [
       "<AxesSubplot:xlabel='has_subscribed', ylabel='count'>"
      ]
     },
     "execution_count": 513,
     "metadata": {},
     "output_type": "execute_result"
    },
    {
     "data": {
      "image/png": "[encoded data removed]",
      "text/plain": [
       "<Figure size 432x288 with 1 Axes>"
      ]
     },
     "metadata": {
      "needs_background": "light"
     },
     "output_type": "display_data"
    }
   ],
   "source": [
    "x_ros, y_ros = over_sampler.fit_resample(x, y_int)\n",
    "x_ros_train, x_ros_test, y_ros_train, y_ros_test = train_test_split(x_ros, y_ros, stratify=y_ros, shuffle=True)\n",
    "print(pd.Series(y_ros_train).value_counts())\n",
    "sns.countplot(x=y_ros_train)"
   ]
  },
  {
   "attachments": {},
   "cell_type": "markdown",
   "metadata": {},
   "source": [
    "Aplicação do algoritmo KNN nos dados de treino, e predição dos dados de teste, balanceados com Oversampling"
   ]
  },
  {
   "cell_type": "code",
   "execution_count": 514,
   "metadata": {},
   "outputs": [],
   "source": [
    "knn.fit(x_ros_train, y_ros_train)\n",
    "y_ros_pred = knn.predict(x_ros_test)\n",
    "y_ros_proba = knn.predict_proba(x_ros_test)[:,1]"
   ]
  },
  {
   "attachments": {},
   "cell_type": "markdown",
   "metadata": {},
   "source": [
    "Resultados do modelo balanceado com Oversampling"
   ]
  },
  {
   "cell_type": "code",
   "execution_count": 515,
   "metadata": {},
   "outputs": [
    {
     "name": "stdout",
     "output_type": "stream",
     "text": [
      "Relatório de classificação: \n",
      "               precision    recall  f1-score   support\n",
      "\n",
      "           1     0.9849    0.8236    0.8971      9980\n",
      "           2     0.8485    0.9874    0.9127      9981\n",
      "\n",
      "    accuracy                         0.9055     19961\n",
      "   macro avg     0.9167    0.9055    0.9049     19961\n",
      "weighted avg     0.9167    0.9055    0.9049     19961\n",
      "\n",
      "Acurácia: 0.9055\n",
      "\n",
      "AUC: 0.9458\n",
      "\n"
     ]
    },
    {
     "data": {
      "image/png": "[encoded data removed]",
      "text/plain": [
       "<Figure size 432x288 with 2 Axes>"
      ]
     },
     "metadata": {
      "needs_background": "light"
     },
     "output_type": "display_data"
    }
   ],
   "source": [
    "ConfusionMatrixDisplay(confusion_matrix=confusion_matrix(y_ros_test, y_ros_pred)).plot()\n",
    "print('Relatório de classificação: \\n', classification_report(y_ros_test, y_ros_pred, digits=4))\n",
    "print('Acurácia: {:.4f}\\n'.format(accuracy_score(y_ros_test, y_ros_pred)))\n",
    "print(\"AUC: {:.4f}\\n\".format(roc_auc_score(y_ros_test, y_ros_proba)))\n"
   ]
  },
  {
   "attachments": {},
   "cell_type": "markdown",
   "metadata": {},
   "source": [
    "Analisando os resultados podemos verificar uma alta taxa de acertos da classe positiva, porém uma baixa taxa de acertos da classe negativa"
   ]
  },
  {
   "attachments": {},
   "cell_type": "markdown",
   "metadata": {},
   "source": [
    "Com base nos resultados, utilizaremos oversampling para balancear a classe do nosso problema"
   ]
  },
  {
   "attachments": {},
   "cell_type": "markdown",
   "metadata": {},
   "source": [
    "Utilizando GridSearch para encontrar o melhor valor para os parametros do KNN"
   ]
  },
  {
   "cell_type": "code",
   "execution_count": 516,
   "metadata": {},
   "outputs": [
    {
     "name": "stdout",
     "output_type": "stream",
     "text": [
      "Melhor leaf_size: 1\n",
      "Melhor p: 2\n",
      "Melhor n_neighbors: 1\n"
     ]
    }
   ],
   "source": [
    "leaf_size = list(range(1,50))\n",
    "n_neighbors = list(range(1,30))\n",
    "p=[1,2]\n",
    "parameters = dict(leaf_size=leaf_size, n_neighbors=n_neighbors, p=p)\n",
    "\n",
    "gscv = GridSearchCV(knn, parameters, cv=10)\n",
    "model = gscv.fit(x_ros_train, y_ros_train)\n",
    "\n",
    "print('Melhor leaf_size:', model.best_estimator_.get_params()['leaf_size'])\n",
    "print('Melhor p:', model.best_estimator_.get_params()['p'])\n",
    "print('Melhor n_neighbors:', model.best_estimator_.get_params()['n_neighbors'])\n",
    "\n",
    "y_gscv_pred = model.predict(x_ros_test)\n",
    "y_gscv_proba = model.predict_proba(x_ros_test)[:,1]"
   ]
  },
  {
   "cell_type": "code",
   "execution_count": 518,
   "metadata": {},
   "outputs": [
    {
     "name": "stdout",
     "output_type": "stream",
     "text": [
      "Relatório de classificação: \n",
      "               precision    recall  f1-score   support\n",
      "\n",
      "           1     0.9922    0.8969    0.9422      9980\n",
      "           2     0.9059    0.9930    0.9475      9981\n",
      "\n",
      "    accuracy                         0.9449     19961\n",
      "   macro avg     0.9491    0.9449    0.9448     19961\n",
      "weighted avg     0.9491    0.9449    0.9448     19961\n",
      "\n",
      "Acurácia: 0.9449\n",
      "\n",
      "AUC: 0.9449\n",
      "\n"
     ]
    },
    {
     "data": {
      "image/png": "[encoded data removed]",
      "text/plain": [
       "<Figure size 432x288 with 2 Axes>"
      ]
     },
     "metadata": {
      "needs_background": "light"
     },
     "output_type": "display_data"
    }
   ],
   "source": [
    "ConfusionMatrixDisplay(confusion_matrix=confusion_matrix(y_ros_test, y_gscv_pred)).plot()\n",
    "print('Relatório de classificação: \\n', classification_report(y_ros_test, y_gscv_pred, digits=4))\n",
    "print('Acurácia: {:.4f}\\n'.format(accuracy_score(y_ros_test, y_gscv_pred)))\n",
    "print(\"AUC: {:.4f}\\n\".format(roc_auc_score(y_ros_test, y_gscv_proba)))"
   ]
  },
  {
   "cell_type": "code",
   "execution_count": null,
   "metadata": {},
   "outputs": [],
   "source": []
  }
 ],
 "metadata": {
  "kernelspec": {
   "display_name": "Python 3",
   "language": "python",
   "name": "python3"
  },
  "language_info": {
   "codemirror_mode": {
    "name": "ipython",
    "version": 3
   },
   "file_extension": ".py",
   "mimetype": "text/x-python",
   "name": "python",
   "nbconvert_exporter": "python",
   "pygments_lexer": "ipython3",
   "version": "3.10.10"
  },
  "orig_nbformat": 4,
  "vscode": {
   "interpreter": {
    "hash": "47e86e659cc4c7e7c8281f4dfa198d26eba569ed7d4f5779d5419dff2bd0d92c"
   }
  }
 },
 "nbformat": 4,
 "nbformat_minor": 2
}
