{
 "cells": [
  {
   "cell_type": "code",
   "execution_count": 3,
   "metadata": {},
   "outputs": [],
   "source": [
    "import pandas as pd\n",
    "from scipy.io.arff import loadarff\n",
    "# from matplot import pyplot as plt\n",
    "import numpy as np\n",
    "import seaborn as sns"
   ]
  },
  {
   "cell_type": "code",
   "execution_count": 45,
   "metadata": {},
   "outputs": [
    {
     "name": "stdout",
     "output_type": "stream",
     "text": [
      "       age   sex on_thyroxine query_on_thyroxine on_antithyroid_medication  \\\n",
      "0     41.0  b'F'         b'f'               b'f'                      b'f'   \n",
      "1     23.0  b'F'         b'f'               b'f'                      b'f'   \n",
      "2     46.0  b'M'         b'f'               b'f'                      b'f'   \n",
      "3     70.0  b'F'         b't'               b'f'                      b'f'   \n",
      "4     70.0  b'F'         b'f'               b'f'                      b'f'   \n",
      "...    ...   ...          ...                ...                       ...   \n",
      "3767  30.0  b'F'         b'f'               b'f'                      b'f'   \n",
      "3768  68.0  b'F'         b'f'               b'f'                      b'f'   \n",
      "3769  74.0  b'F'         b'f'               b'f'                      b'f'   \n",
      "3770  72.0  b'M'         b'f'               b'f'                      b'f'   \n",
      "3771  64.0  b'F'         b'f'               b'f'                      b'f'   \n",
      "\n",
      "      sick pregnant thyroid_surgery I131_treatment query_hypothyroid  ...  \\\n",
      "0     b'f'     b'f'            b'f'           b'f'              b'f'  ...   \n",
      "1     b'f'     b'f'            b'f'           b'f'              b'f'  ...   \n",
      "2     b'f'     b'f'            b'f'           b'f'              b'f'  ...   \n",
      "3     b'f'     b'f'            b'f'           b'f'              b'f'  ...   \n",
      "4     b'f'     b'f'            b'f'           b'f'              b'f'  ...   \n",
      "...    ...      ...             ...            ...               ...  ...   \n",
      "3767  b'f'     b'f'            b'f'           b'f'              b'f'  ...   \n",
      "3768  b'f'     b'f'            b'f'           b'f'              b'f'  ...   \n",
      "3769  b'f'     b'f'            b'f'           b'f'              b'f'  ...   \n",
      "3770  b'f'     b'f'            b'f'           b'f'              b'f'  ...   \n",
      "3771  b'f'     b'f'            b'f'           b'f'              b'f'  ...   \n",
      "\n",
      "     TT4_measured    TT4 T4U_measured   T4U FTI_measured    FTI TBG_measured  \\\n",
      "0            b't'  125.0         b't'  1.14         b't'  109.0         b'f'   \n",
      "1            b't'  102.0         b'f'   NaN         b'f'    NaN         b'f'   \n",
      "2            b't'  109.0         b't'  0.91         b't'  120.0         b'f'   \n",
      "3            b't'  175.0         b'f'   NaN         b'f'    NaN         b'f'   \n",
      "4            b't'   61.0         b't'  0.87         b't'   70.0         b'f'   \n",
      "...           ...    ...          ...   ...          ...    ...          ...   \n",
      "3767         b'f'    NaN         b'f'   NaN         b'f'    NaN         b'f'   \n",
      "3768         b't'  124.0         b't'  1.08         b't'  114.0         b'f'   \n",
      "3769         b't'  112.0         b't'  1.07         b't'  105.0         b'f'   \n",
      "3770         b't'   82.0         b't'  0.94         b't'   87.0         b'f'   \n",
      "3771         b't'   99.0         b't'  1.07         b't'   92.0         b'f'   \n",
      "\n",
      "      TBG referral_source        Class  \n",
      "0     NaN         b'SVHC'  b'negative'  \n",
      "1     NaN        b'other'  b'negative'  \n",
      "2     NaN        b'other'  b'negative'  \n",
      "3     NaN        b'other'  b'negative'  \n",
      "4     NaN          b'SVI'  b'negative'  \n",
      "...   ...             ...          ...  \n",
      "3767  NaN        b'other'  b'negative'  \n",
      "3768  NaN          b'SVI'  b'negative'  \n",
      "3769  NaN        b'other'  b'negative'  \n",
      "3770  NaN          b'SVI'  b'negative'  \n",
      "3771  NaN        b'other'  b'negative'  \n",
      "\n",
      "[3772 rows x 30 columns]\n"
     ]
    }
   ],
   "source": [
    "raw_data = loadarff('dataset_38_sick.arff')\n",
    "df_data = pd.DataFrame(raw_data[0])\n",
    "a = df_data.head(2)\n",
    "print(df_data)"
   ]
  },
  {
   "cell_type": "code",
   "execution_count": 46,
   "metadata": {},
   "outputs": [
    {
     "name": "stdout",
     "output_type": "stream",
     "text": [
      "       age   sex on_thyroxine query_on_thyroxine on_antithyroid_medication  \\\n",
      "0     41.0  b'F'         b'f'               b'f'                      b'f'   \n",
      "2     46.0  b'M'         b'f'               b'f'                      b'f'   \n",
      "4     70.0  b'F'         b'f'               b'f'                      b'f'   \n",
      "5     18.0  b'F'         b't'               b'f'                      b'f'   \n",
      "6     59.0  b'F'         b'f'               b'f'                      b'f'   \n",
      "...    ...   ...          ...                ...                       ...   \n",
      "3766  19.0  b'F'         b'f'               b'f'                      b'f'   \n",
      "3768  68.0  b'F'         b'f'               b'f'                      b'f'   \n",
      "3769  74.0  b'F'         b'f'               b'f'                      b'f'   \n",
      "3770  72.0  b'M'         b'f'               b'f'                      b'f'   \n",
      "3771  64.0  b'F'         b'f'               b'f'                      b'f'   \n",
      "\n",
      "      sick pregnant thyroid_surgery I131_treatment query_hypothyroid  ...  \\\n",
      "0     b'f'     b'f'            b'f'           b'f'              b'f'  ...   \n",
      "2     b'f'     b'f'            b'f'           b'f'              b'f'  ...   \n",
      "4     b'f'     b'f'            b'f'           b'f'              b'f'  ...   \n",
      "5     b'f'     b'f'            b'f'           b'f'              b'f'  ...   \n",
      "6     b'f'     b'f'            b'f'           b'f'              b'f'  ...   \n",
      "...    ...      ...             ...            ...               ...  ...   \n",
      "3766  b'f'     b'f'            b'f'           b'f'              b'f'  ...   \n",
      "3768  b'f'     b'f'            b'f'           b'f'              b'f'  ...   \n",
      "3769  b'f'     b'f'            b'f'           b'f'              b'f'  ...   \n",
      "3770  b'f'     b'f'            b'f'           b'f'              b'f'  ...   \n",
      "3771  b'f'     b'f'            b'f'           b'f'              b'f'  ...   \n",
      "\n",
      "     TT4_measured    TT4 T4U_measured   T4U FTI_measured    FTI TBG_measured  \\\n",
      "0            b't'  125.0         b't'  1.14         b't'  109.0         b'f'   \n",
      "2            b't'  109.0         b't'  0.91         b't'  120.0         b'f'   \n",
      "4            b't'   61.0         b't'  0.87         b't'   70.0         b'f'   \n",
      "5            b't'  183.0         b't'  1.30         b't'  141.0         b'f'   \n",
      "6            b't'   72.0         b't'  0.92         b't'   78.0         b'f'   \n",
      "...           ...    ...          ...   ...          ...    ...          ...   \n",
      "3766         b't'  108.0         b't'  1.11         b't'   97.0         b'f'   \n",
      "3768         b't'  124.0         b't'  1.08         b't'  114.0         b'f'   \n",
      "3769         b't'  112.0         b't'  1.07         b't'  105.0         b'f'   \n",
      "3770         b't'   82.0         b't'  0.94         b't'   87.0         b'f'   \n",
      "3771         b't'   99.0         b't'  1.07         b't'   92.0         b'f'   \n",
      "\n",
      "      TBG referral_source        Class  \n",
      "0     NaN         b'SVHC'  b'negative'  \n",
      "2     NaN        b'other'  b'negative'  \n",
      "4     NaN          b'SVI'  b'negative'  \n",
      "5     NaN        b'other'  b'negative'  \n",
      "6     NaN        b'other'  b'negative'  \n",
      "...   ...             ...          ...  \n",
      "3766  NaN        b'other'  b'negative'  \n",
      "3768  NaN          b'SVI'  b'negative'  \n",
      "3769  NaN        b'other'  b'negative'  \n",
      "3770  NaN          b'SVI'  b'negative'  \n",
      "3771  NaN        b'other'  b'negative'  \n",
      "\n",
      "[3382 rows x 30 columns]\n"
     ]
    }
   ],
   "source": [
    "df_data = df_data.dropna(subset=['TT4', 'FTI', 'age', 'sick', 'T4U'])\n",
    "# df_data = df_data['sick'].dropna()\n",
    "print(df_data)"
   ]
  },
  {
   "cell_type": "code",
   "execution_count": 55,
   "metadata": {},
   "outputs": [],
   "source": [
    "df_data = df_data[df_data['T4U'] > 1]\n",
    "df_data = df_data[df_data['FTI'] > 100]\n",
    "df_data = df_data[df_data['age'] > 50]\n",
    "df_data = df_data[df_data['age'] < 65]\n",
    "# df_data = df_data[df_data['sick'] == True]"
   ]
  },
  {
   "cell_type": "code",
   "execution_count": 56,
   "metadata": {},
   "outputs": [
    {
     "data": {
      "text/plain": [
       "<AxesSubplot: xlabel='sick', ylabel='age'>"
      ]
     },
     "execution_count": 56,
     "metadata": {},
     "output_type": "execute_result"
    },
    {
     "data": {
      "image/png": "[encoded data removed]",
      "text/plain": [
       "<Figure size 640x480 with 1 Axes>"
      ]
     },
     "metadata": {},
     "output_type": "display_data"
    }
   ],
   "source": [
    "sns.stripplot(x=\"sick\", y=\"age\", hue='sex', data=df_data, linewidth=1)"
   ]
  },
  {
   "cell_type": "code",
   "execution_count": 57,
   "metadata": {},
   "outputs": [
    {
     "data": {
      "text/plain": [
       "<AxesSubplot: xlabel='age', ylabel='sick'>"
      ]
     },
     "execution_count": 57,
     "metadata": {},
     "output_type": "execute_result"
    },
    {
     "data": {
      "image/png": "[encoded data removed]",
      "text/plain": [
       "<Figure size 640x480 with 1 Axes>"
      ]
     },
     "metadata": {},
     "output_type": "display_data"
    }
   ],
   "source": [
    "sns.boxplot(data=df_data, x='age', y='sick', hue=\"sick\", notch=True, showcaps=False,medianprops={\"color\": \"coral\"}, showfliers=False)"
   ]
  },
  {
   "cell_type": "code",
   "execution_count": null,
   "metadata": {},
   "outputs": [],
   "source": []
  }
 ],
 "metadata": {
  "kernelspec": {
   "display_name": "Python 3",
   "language": "python",
   "name": "python3"
  },
  "language_info": {
   "codemirror_mode": {
    "name": "ipython",
    "version": 3
   },
   "file_extension": ".py",
   "mimetype": "text/x-python",
   "name": "python",
   "nbconvert_exporter": "python",
   "pygments_lexer": "ipython3",
   "version": "3.11.0"
  },
  "orig_nbformat": 4,
  "vscode": {
   "interpreter": {
    "hash": "5df6bde465664266efea8296d078d6bc934a707bcdbf4ef782f15a70ffec3e7b"
   }
  }
 },
 "nbformat": 4,
 "nbformat_minor": 2
}
